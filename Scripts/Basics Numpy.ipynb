{
 "cells": [
  {
   "cell_type": "code",
   "execution_count": 62,
   "metadata": {},
   "outputs": [],
   "source": [
    "# This Notebooks is a basic tutorial for Numpy Arrays\n",
    "import numpy as np\n",
    "import matplotlib.pyplot as plt"
   ]
  },
  {
   "cell_type": "code",
   "execution_count": 79,
   "metadata": {},
   "outputs": [],
   "source": [
    "x1 = np.random.randint(10, size=6)  # One-dimensional array\n",
    "x2 = np.random.randint(10, size=(3, 4))  # Two-dimensional array\n",
    "x3 = np.random.randint(10, size=(3, 4, 5))  # Three-dimensional array"
   ]
  },
  {
   "cell_type": "code",
   "execution_count": 63,
   "metadata": {},
   "outputs": [],
   "source": [
    "# What is an array per definition?\n",
    "# What is a matrix\n",
    "# What is a tensor\n",
    "arr = np.array([1,2,3,7,8,9])\n",
    "arr_2 = np.array([1,2,1,2,1,2])\n",
    "arr_3 = np.array([\"hell\",1,2,3])"
   ]
  },
  {
   "cell_type": "code",
   "execution_count": 64,
   "metadata": {},
   "outputs": [
    {
     "data": {
      "text/plain": [
       "array([1, 3])"
      ]
     },
     "execution_count": 64,
     "metadata": {},
     "output_type": "execute_result"
    }
   ],
   "source": [
    "# other form of creation\n",
    "# arrange(start, stop, interval)\n",
    "array = np.arange(10)"
   ]
  },
  {
   "cell_type": "code",
   "execution_count": 66,
   "metadata": {},
   "outputs": [
    {
     "name": "stdout",
     "output_type": "stream",
     "text": [
      "[10 11 12 13 14 15 16 17 18 19]\n",
      "[-1  0  1  2  3  4  5  6  7  8]\n",
      "[0. 1. 2. 3. 4. 5. 6. 7. 8. 9.]\n",
      "[0 1 2 0 1 2 0 1 2 0]\n",
      "[ 0  1  4  9 16 25 36 49 64 81]\n"
     ]
    }
   ],
   "source": [
    "# operators on arrays\n",
    "# Vectorization is key\n",
    "print(array + 10)\n",
    "print(array - 1)\n",
    "print(array/1)\n",
    "print(array%3)\n",
    "print(array**2)\n",
    "# these are just wrappers around\n",
    "#np.add()\n",
    "#np.substract()\n",
    "#np.divide()\n",
    "#..."
   ]
  },
  {
   "cell_type": "code",
   "execution_count": 70,
   "metadata": {},
   "outputs": [
    {
     "data": {
      "text/plain": [
       "array([4, 3, 2, 1, 0, 1, 2, 3, 4])"
      ]
     },
     "execution_count": 70,
     "metadata": {},
     "output_type": "execute_result"
    }
   ],
   "source": [
    "array_1 = np.arange(-4,5,1)\n",
    "np.abs(array_1)"
   ]
  },
  {
   "cell_type": "code",
   "execution_count": 71,
   "metadata": {},
   "outputs": [
    {
     "name": "stdout",
     "output_type": "stream",
     "text": [
      "[-20. -15. -10.  -5.   0.   5.  10.  15.  20.]\n"
     ]
    }
   ],
   "source": [
    "# for more advanced stuff it might be necessary to directly give the output of a \n",
    "# numpy function \n",
    "\n",
    "\n",
    "y = 5\n",
    "z = np.empty(9) # third array \n",
    "np.multiply(array_1,y, out = z) # put computation inside the empty array\n",
    "print(z)"
   ]
  },
  {
   "cell_type": "code",
   "execution_count": 74,
   "metadata": {},
   "outputs": [
    {
     "name": "stdout",
     "output_type": "stream",
     "text": [
      "[0.63497467 0.17550756 0.257194   0.94926463 0.26155921 0.83966975\n",
      " 0.93077629 0.05321069 0.80966817 0.27420607]\n",
      "[[0.14725658 0.27099263]\n",
      " [0.89704518 0.92040092]\n",
      " [0.8291483  0.93484447]\n",
      " [0.46667441 0.62533698]\n",
      " [0.71626303 0.65102979]\n",
      " [0.06600402 0.53276599]\n",
      " [0.02187036 0.83059754]\n",
      " [0.66704829 0.51287704]\n",
      " [0.84071019 0.54976005]\n",
      " [0.37081244 0.07702974]]\n"
     ]
    }
   ],
   "source": [
    "# create a random numpy array that we can work with\n",
    "# go through the dimensions and ask what might be a data structure that uses this shape\n",
    "print(np.random.rand(10))\n",
    "print(np.random.rand(10,2))"
   ]
  },
  {
   "cell_type": "code",
   "execution_count": 75,
   "metadata": {},
   "outputs": [
    {
     "name": "stdout",
     "output_type": "stream",
     "text": [
      "[  1.  12.  23.  34.  45.  56.  67.  78.  89. 100.]\n"
     ]
    }
   ],
   "source": [
    "# Create a linear spaced array\n",
    "print(np.linspace(1,100, 10))"
   ]
  },
  {
   "cell_type": "code",
   "execution_count": 78,
   "metadata": {},
   "outputs": [
    {
     "name": "stdout",
     "output_type": "stream",
     "text": [
      "[0 1 2 3 4]\n"
     ]
    }
   ],
   "source": [
    "# slice the array\n",
    "# [row, columns]\n",
    "print(array[:5])\n",
    "# try with an array of 3 dimensions, how would slicing work what kind of data would this represent\n",
    "# task: Get the first 50 elements from both columns/the whole array\n",
    "# get every element placed on an even index from the first column"
   ]
  },
  {
   "cell_type": "code",
   "execution_count": 34,
   "metadata": {},
   "outputs": [
    {
     "data": {
      "text/plain": [
       "array([[1., 0., 0.],\n",
       "       [0., 1., 0.],\n",
       "       [0., 0., 1.]])"
      ]
     },
     "execution_count": 34,
     "metadata": {},
     "output_type": "execute_result"
    }
   ],
   "source": [
    "# create a vector of an specific length in advance already prefilled\n",
    "# this might be important \n",
    "zeros = np.zeros((2,3))\n",
    "ones = np.ones((2,3))\n",
    "identity = np.identity(3) # is a squared matrix that can be used to calculate serveral matrix specific things"
   ]
  },
  {
   "cell_type": "code",
   "execution_count": 82,
   "metadata": {},
   "outputs": [],
   "source": [
    "# we can also create a vector from a normal distribtuion\n",
    "# (mean, std, samples)\n",
    "# ofc mean and std can vary slidely\n",
    "arr_normal = np.random.normal(5, 5,20)"
   ]
  },
  {
   "cell_type": "code",
   "execution_count": 83,
   "metadata": {},
   "outputs": [
    {
     "name": "stdout",
     "output_type": "stream",
     "text": [
      "The mean value of the array: 4.978774695567958\n",
      "The standard deviation of the array: 4.632643244413415\n",
      "The sum of the array:  99.57549391135916\n",
      "The shape of the array: (20,)\n",
      "The maximum value of the array: 11.885478465002244\n",
      "The minimum value of the array: -5.145511547990791\n",
      "Highest value located at: 1 \n",
      "Lowest value located at: 4\n",
      "Sorted array indeces looks like this: [ 4  5  8 16 13 18 19 15  0 10  7  3  2  6 11  9 12 14 17  1]\n",
      "Sorted array looks like this: [-5.14551155 -2.38645638 -1.49957612 -1.31910661  1.12509332  3.74964936\n",
      "  4.14325923  4.47618349  4.54464507  5.46276233  5.8072671   6.13763436\n",
      "  7.20939312  7.39490073  7.95323199  8.85059133  9.74396558 10.52796737\n",
      " 10.91412172 11.88547847]\n"
     ]
    },
    {
     "data": {
      "text/plain": [
       "array([11.88547847, 10.91412172, 10.52796737,  9.74396558,  8.85059133,\n",
       "        7.95323199,  7.39490073,  7.20939312,  6.13763436,  5.8072671 ,\n",
       "        5.46276233,  4.54464507,  4.47618349,  4.14325923,  3.74964936,\n",
       "        1.12509332, -1.31910661, -1.49957612, -2.38645638, -5.14551155])"
      ]
     },
     "execution_count": 83,
     "metadata": {},
     "output_type": "execute_result"
    }
   ],
   "source": [
    "# we can calculate descriptive statistics using plain numpy\n",
    "print(f\"The mean value of the array: {arr_normal.mean()}\")\n",
    "print(f\"The standard deviation of the array: {arr_normal.std()}\")\n",
    "print(f\"The sum of the array:  {arr_normal.sum()}\")\n",
    "print(f\"The shape of the array: {arr_normal.shape}\")\n",
    "print(f\"The maximum value of the array: {arr_normal.max()}\")\n",
    "print(f\"The minimum value of the array: {arr_normal.min()}\")\n",
    "print(f\"Highest value located at: {arr_normal.argmax()} \")\n",
    "print(f\"Lowest value located at: {arr_normal.argmin()}\")\n",
    "print(f\"Sorted array indeces looks like this: {arr_normal.argsort()}\")\n",
    "print(f\"Sorted array looks like this: {np.sort(arr_normal)}\")\n",
    "-np.sort(-arr_normal) # what would this be? and why is this working?"
   ]
  },
  {
   "cell_type": "code",
   "execution_count": 42,
   "metadata": {},
   "outputs": [],
   "source": [
    "# Exercise for students:\n",
    "# get the mean heights of all the presidents\n",
    "# get the std \n",
    "# calculate the percentile for the lower quarter and the higher quarter\n",
    "# calculate the median\n",
    "# get the index of the highest value\n",
    "import pandas as pd\n",
    "heights = pd.read_csv(\"../Data/ExampleData/president_heights.csv\")\n",
    "only_heights = heights['height(cm)'].values"
   ]
  },
  {
   "cell_type": "code",
   "execution_count": 43,
   "metadata": {},
   "outputs": [
    {
     "name": "stdout",
     "output_type": "stream",
     "text": [
      "Index(['order', 'name', 'height(cm)'], dtype='object')\n"
     ]
    },
    {
     "data": {
      "text/plain": [
       "183.0"
      ]
     },
     "execution_count": 43,
     "metadata": {},
     "output_type": "execute_result"
    }
   ],
   "source": [
    "np.percentile(only_heights, 25)\n",
    "np.percentile(only_heights, 75)"
   ]
  },
  {
   "cell_type": "code",
   "execution_count": 27,
   "metadata": {},
   "outputs": [
    {
     "data": {
      "text/plain": [
       "array([[1, 2, 3, 4],\n",
       "       [1, 2, 3, 4]])"
      ]
     },
     "execution_count": 27,
     "metadata": {},
     "output_type": "execute_result"
    }
   ],
   "source": [
    "# per definition a vector transpose represent the switch from row to column or vice versa\n",
    "vector_transpose = np.array([1,2,3,4])\n",
    "matrix_transpose = np.array([[1,2,3,4], [1,2,3,4]])\n",
    "matrix_transpose"
   ]
  },
  {
   "cell_type": "code",
   "execution_count": 28,
   "metadata": {},
   "outputs": [
    {
     "data": {
      "text/plain": [
       "array([1, 2, 3, 4])"
      ]
     },
     "execution_count": 28,
     "metadata": {},
     "output_type": "execute_result"
    }
   ],
   "source": [
    "# matrix and vector transpositions\n",
    "# matrix is switching from columns to row or vice versa\n",
    "# vector appears to not change\n",
    "print(matrix_transpose.transpose())\n",
    "print(vector_transpose.transpose())"
   ]
  },
  {
   "cell_type": "code",
   "execution_count": 35,
   "metadata": {},
   "outputs": [
    {
     "name": "stdout",
     "output_type": "stream",
     "text": [
      "This is the original array: [[1 2]\n",
      " [3 2]\n",
      " [1 4]]\n",
      "This is the flatten array: [1 2 3 2 1 4]\n",
      "This is the reshaped array: [[1 2 3]\n",
      " [2 1 4]]\n"
     ]
    }
   ],
   "source": [
    "# We can also reshape our arrays into multiple new shapes\n",
    "arr_1 = np.array([[1,2],[3,2], [1,4]])\n",
    "print(f\"This is the original array: {arr_1}\")\n",
    "flatten_array = np.reshape(arr_1, -1)\n",
    "print(f\"This is the flatten array: {flatten_array}\")\n",
    "reshape = np.reshape(arr_1, (2,3))\n",
    "print(f\"This is the reshaped array: {reshape}\")"
   ]
  },
  {
   "cell_type": "code",
   "execution_count": 37,
   "metadata": {},
   "outputs": [
    {
     "data": {
      "text/plain": [
       "array([ 6.,  8., 10., 12., 14., 16., 18., 20., 22., 24.])"
      ]
     },
     "execution_count": 37,
     "metadata": {},
     "output_type": "execute_result"
    }
   ],
   "source": [
    "# Broadcasting\n",
    "# Describes the combination of two vector, matrices of different sizes\n",
    "array_2 = np.linspace(1,10,10) + np.linspace(5,14,10)\n",
    "# how would you think is this operation going?\n",
    "array_2"
   ]
  },
  {
   "cell_type": "code",
   "execution_count": 40,
   "metadata": {},
   "outputs": [
    {
     "name": "stdout",
     "output_type": "stream",
     "text": [
      "[ 30.  40.  50.  60.  70.  80.  90. 100. 110. 120.]\n",
      "[16. 18. 20. 22. 24. 26. 28. 30. 32. 34.]\n",
      "[ 60.  80. 100. 120. 140. 160. 180. 200. 220. 240.]\n"
     ]
    }
   ],
   "source": [
    "# But Broadcasting describes the operation using unequal sizes\n",
    "# e.g using a scaler\n",
    "print(array_2 * 5)\n",
    "print(array_2 + 10)\n",
    "print(array_2 * 10)\n"
   ]
  },
  {
   "cell_type": "code",
   "execution_count": 50,
   "metadata": {},
   "outputs": [
    {
     "name": "stdout",
     "output_type": "stream",
     "text": [
      "[[ 5 10 15]\n",
      " [15 10  5]]\n",
      "[[2 4 6]\n",
      " [4 4 4]]\n"
     ]
    }
   ],
   "source": [
    "# why is this in general important\n",
    "# it is all about vectorization\n",
    "arr_1 = np.array([[1,2,3],[3,2,1]])\n",
    "multiply_arr = np.array([1,2,3])\n",
    "scal_arr = arr_1 * 5\n",
    "vec_arr = arr_1 + multiply_arr\n",
    "print(scal_arr) # what happens here \n",
    "print(vec_arr) # what happens here"
   ]
  },
  {
   "cell_type": "code",
   "execution_count": 57,
   "metadata": {},
   "outputs": [
    {
     "name": "stdout",
     "output_type": "stream",
     "text": [
      "5\n",
      "[8 4]\n"
     ]
    }
   ],
   "source": [
    "# this calculates the dot product\n",
    "# this dot product is usually a metric that shows how aligned to entities are\n",
    "# if dot product is zero than vectors are orthogonal\n",
    "dot_vector = np.arange(3)\n",
    "dot_vector_2 = np.arange(3)\n",
    "calculated_vector = dot_vector.dot(dot_vector_2)\n",
    "calculated_matrix = arr_1.dot(dot_vector)\n",
    "print(calculated_vector)\n",
    "print(calculated_matrix)"
   ]
  },
  {
   "cell_type": "code",
   "execution_count": 58,
   "metadata": {},
   "outputs": [
    {
     "data": {
      "text/plain": [
       "array([8, 4])"
      ]
     },
     "execution_count": 58,
     "metadata": {},
     "output_type": "execute_result"
    }
   ],
   "source": [
    "# this is matrix multiplication \n",
    "# usually you use matmul for matrix multiplication things and dot product for vectors\n",
    "arr_1 @ dot_vector"
   ]
  },
  {
   "cell_type": "code",
   "execution_count": 59,
   "metadata": {},
   "outputs": [
    {
     "data": {
      "text/plain": [
       "array([11., 11., 11., 11., 11., 11., 11., 11., 11.])"
      ]
     },
     "execution_count": 59,
     "metadata": {},
     "output_type": "execute_result"
    }
   ],
   "source": [
    "# let us retrieve the point by point differences\n",
    "diff_array = np.linspace(1,100, 10)\n",
    "diff_1 = np.diff(diff_array)\n",
    "diff_1"
   ]
  },
  {
   "cell_type": "code",
   "execution_count": 60,
   "metadata": {},
   "outputs": [
    {
     "data": {
      "text/plain": [
       "array([ 0.33,  1.32,  2.97,  4.95,  6.93,  8.91, 11.55, 15.18, 24.75,\n",
       "       46.2 , 39.6 , 26.4 ])"
      ]
     },
     "execution_count": 60,
     "metadata": {},
     "output_type": "execute_result"
    }
   ],
   "source": [
    "# and one last function:\n",
    "# 2d convolution is useful to apply \n",
    "array = np.array([1,3,5,7,9,11,15,20,40,80])\n",
    "moving_average = np.convolve(array, np.array([0.33,0.33, 0.33])) # second represents the length\n",
    "moving_average\n",
    "# Can you imaging another application where this is widely used"
   ]
  },
  {
   "cell_type": "code",
   "execution_count": 44,
   "metadata": {},
   "outputs": [],
   "source": [
    "# exercies calculate the mean, std, maximum and the sum of the array\n",
    "# reshape the array into a 3x2 matrix\n",
    "# then add the vector [2,2,2] to it and reshape back to one dimension array\n",
    "# recalculate the mean, std, maximum and the sum\n",
    "first_array = np.array([1.5,1.2,3.1,3.6,9,15])"
   ]
  },
  {
   "cell_type": "code",
   "execution_count": 61,
   "metadata": {},
   "outputs": [
    {
     "data": {
      "text/plain": [
       "array([3, 4, 1, 2, 3, 3, 5])"
      ]
     },
     "execution_count": 61,
     "metadata": {},
     "output_type": "execute_result"
    }
   ],
   "source": [
    "# numpy vectorize\n",
    "def myfunc(a, b):\n",
    "    \"Return a-b if a>b, otherwise return a+b\"\n",
    "    if a > b:\n",
    "        return a - b\n",
    "    else:\n",
    "        return a + b\n",
    "    \n",
    "my_function = np.vectorize(myfunc)\n",
    "my_function([1,2,3,4,5,5,7],2)"
   ]
  }
 ],
 "metadata": {
  "kernelspec": {
   "display_name": "neuroscience_beginner",
   "language": "python",
   "name": "python3"
  },
  "language_info": {
   "codemirror_mode": {
    "name": "ipython",
    "version": 3
   },
   "file_extension": ".py",
   "mimetype": "text/x-python",
   "name": "python",
   "nbconvert_exporter": "python",
   "pygments_lexer": "ipython3",
   "version": "3.9.15"
  },
  "orig_nbformat": 4,
  "vscode": {
   "interpreter": {
    "hash": "b29e83ee11e7f59cb38c31a3bdf4f8395742e175511a4c2dd46f06d53a300255"
   }
  }
 },
 "nbformat": 4,
 "nbformat_minor": 2
}
