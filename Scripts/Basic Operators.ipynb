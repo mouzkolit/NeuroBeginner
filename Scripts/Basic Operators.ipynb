{
 "cells": [
  {
   "attachments": {},
   "cell_type": "markdown",
   "metadata": {},
   "source": [
    "# Basic Operators in Python and what the do"
   ]
  },
  {
   "attachments": {},
   "cell_type": "markdown",
   "metadata": {},
   "source": [
    "## Operators operate on data structures and data types\n",
    "\n",
    "This is a list of the most common operators used in python!\n",
    "You can just execute the commands.\n",
    "The expected output is commented next to it.\n",
    "\n",
    "Operators are used when we want to perform operations on variables and values.\n",
    "You can use them in a variety of ways which are listed below.\n",
    "You can also check how they interact with different data structures"
   ]
  },
  {
   "cell_type": "code",
   "execution_count": 4,
   "metadata": {},
   "outputs": [
    {
     "name": "stdout",
     "output_type": "stream",
     "text": [
      "7\n",
      "3\n",
      "10\n",
      "2.5\n",
      "1\n",
      "25\n",
      "False\n",
      "True\n",
      "True\n",
      "False\n",
      "True\n",
      "False\n",
      "False\n",
      "True\n",
      "False\n",
      "True\n",
      "False\n",
      "True\n"
     ]
    }
   ],
   "source": [
    "# Addition\n",
    "print(5 + 2) # 7\n",
    "\n",
    "# Subtraction\n",
    "print(5 - 2) # 3\n",
    "\n",
    "# Multiplication\n",
    "print(5 * 2) # 10\n",
    "\n",
    "# Division\n",
    "print(5 / 2) # 2.5\n",
    "\n",
    "# Modulus\n",
    "print(5 % 2) # 1\n",
    "\n",
    "# Exponent\n",
    "print(5 ** 2) # 25\n",
    "\n",
    "# Equality\n",
    "print(5 == 2) # False\n",
    "\n",
    "# Inequality\n",
    "print(5 != 2) # True\n",
    "\n",
    "# Greater than\n",
    "print(5 > 2) # True\n",
    "\n",
    "# Less than\n",
    "print(5 < 2) # False\n",
    "\n",
    "# Greater than or equal to\n",
    "print(5 >= 2) # True\n",
    "\n",
    "# Less than or equal to\n",
    "print(5 <= 2) # False\n",
    "\n",
    "# Logical AND\n",
    "print(True and False) # False\n",
    "\n",
    "# Logical OR\n",
    "print(True or False) # True\n",
    "\n",
    "# Logical NOT\n",
    "print(not True) # False\n",
    "\n",
    "# Membership\n",
    "list_a = [1, 2, 3, 4, 5]\n",
    "print(3 in list_a) # True\n",
    "\n",
    "# Identity\n",
    "x = [1, 2, 3]\n",
    "y = [1, 2, 3]\n",
    "z = x# \n",
    "\n",
    "print(x is y) # False\n",
    "print(x is z) # True\n"
   ]
  }
 ],
 "metadata": {
  "kernelspec": {
   "display_name": "neuroscience_beginner",
   "language": "python",
   "name": "python3"
  },
  "language_info": {
   "codemirror_mode": {
    "name": "ipython",
    "version": 3
   },
   "file_extension": ".py",
   "mimetype": "text/x-python",
   "name": "python",
   "nbconvert_exporter": "python",
   "pygments_lexer": "ipython3",
   "version": "3.10.8"
  },
  "orig_nbformat": 4,
  "vscode": {
   "interpreter": {
    "hash": "b29e83ee11e7f59cb38c31a3bdf4f8395742e175511a4c2dd46f06d53a300255"
   }
  }
 },
 "nbformat": 4,
 "nbformat_minor": 2
}
