{
 "cells": [
  {
   "cell_type": "code",
   "execution_count": 5,
   "id": "513d2cfb",
   "metadata": {},
   "outputs": [
    {
     "data": {
      "text/plain": [
       "[2, 3, 4, 5, 6]"
      ]
     },
     "execution_count": 5,
     "metadata": {},
     "output_type": "execute_result"
    }
   ],
   "source": [
    "#Easy games\n",
    "# multiply to list\n",
    "# join list using \n",
    "# use map, reduce, filter\n",
    "\n",
    "listing = [1,2,3,4,5]\n",
    "def add_list(x):\n",
    "    x = x +1\n",
    "    return x\n",
    "\n",
    "list(map(add_list,listing))"
   ]
  },
  {
   "cell_type": "code",
   "execution_count": 6,
   "id": "e8ec3e4e",
   "metadata": {},
   "outputs": [
    {
     "name": "stdout",
     "output_type": "stream",
     "text": [
      "?? ?? ?? "
     ]
    }
   ],
   "source": [
    "# print challenges\n",
    "for _ in range(3): # here we can use a placeholer\n",
    "    print(\"?\", end = \"\")\n",
    "    print(\"?\", end = \" \")"
   ]
  },
  {
   "cell_type": "code",
   "execution_count": null,
   "id": "2467b678",
   "metadata": {},
   "outputs": [],
   "source": [
    "# write a hangman game in two version"
   ]
  },
  {
   "cell_type": "code",
   "execution_count": 22,
   "id": "66e42cda",
   "metadata": {},
   "outputs": [
    {
     "name": "stdout",
     "output_type": "stream",
     "text": [
      "['_', '_', '_', '_', '_', '_']\n",
      "Select a letterh\n",
      "This was successful: ['_', '_', '_', 'h', '_', '_']\n",
      "['_', '_', '_', 'h', '_', '_']\n",
      "Select a letterm\n",
      "Ops you lost a life: 9 left\n",
      "['_', '_', '_', 'h', '_', '_']\n",
      "Select a lettero\n",
      "This was successful: ['_', '_', '_', 'h', 'o', '_']\n",
      "['_', '_', '_', 'h', 'o', '_']\n",
      "Select a letterp\n",
      "This was successful: ['p', '_', '_', 'h', 'o', '_']\n",
      "['p', '_', '_', 'h', 'o', '_']\n",
      "Select a letterq\n",
      "Ops you lost a life: 8 left\n",
      "['p', '_', '_', 'h', 'o', '_']\n",
      "Select a letterr\n",
      "Ops you lost a life: 7 left\n",
      "['p', '_', '_', 'h', 'o', '_']\n",
      "Select a letters\n",
      "Ops you lost a life: 6 left\n",
      "['p', '_', '_', 'h', 'o', '_']\n",
      "Select a lettert\n",
      "This was successful: ['p', '_', 't', 'h', 'o', '_']\n",
      "['p', '_', 't', 'h', 'o', '_']\n",
      "Select a letteru\n",
      "Ops you lost a life: 5 left\n",
      "['p', '_', 't', 'h', 'o', '_']\n",
      "Select a letterv\n",
      "Ops you lost a life: 4 left\n",
      "['p', '_', 't', 'h', 'o', '_']\n",
      "Select a letterw\n",
      "Ops you lost a life: 3 left\n",
      "['p', '_', 't', 'h', 'o', '_']\n",
      "Select a letterx\n",
      "Ops you lost a life: 2 left\n",
      "['p', '_', 't', 'h', 'o', '_']\n",
      "Select a lettery\n",
      "This was successful: ['p', 'y', 't', 'h', 'o', '_']\n",
      "['p', 'y', 't', 'h', 'o', '_']\n",
      "Select a letterz\n",
      "Ops you lost a life: 1 left\n",
      "['p', 'y', 't', 'h', 'o', '_']\n",
      "Select a lettera\n",
      "Ops you lost a life: 0 left\n",
      "['p', 'y', 't', 'h', 'o', '_']\n",
      "Select a letterm\n",
      "You lost the game\n"
     ]
    }
   ],
   "source": [
    "# same version using recursion\n",
    "import random\n",
    "list_of_words = [\"hello\",\"provided\", \"datascience\",\"randomforest\",\"pca\",\"kmeans\",\n",
    "                \"umap\",\"autoencoder\",\"streamlit\",\"python\",\"matplotlib\",\"pandas\"]\n",
    "\n",
    "count = 10\n",
    "word = random.choice(list_of_words)\n",
    "word = word.lower()\n",
    "word_list = list(word)\n",
    "search_list = len(word_list) * [\"_\"]\n",
    "\n",
    "def hangman_game(word_list: list, search_list: list, count: int) -> None:\n",
    "    print(search_list)\n",
    "    letter = input(\"Select a letter\").lower()\n",
    "    \n",
    "    # check you lives\n",
    "    if count == 0:\n",
    "        print(\"You lost the game\")\n",
    "        return None\n",
    "    # check that only one letter is selected\n",
    "    if len(letter) == 1:\n",
    "        # check if present in the list\n",
    "        if letter in word_list:\n",
    "            # check if already used\n",
    "            if letter in search_list:\n",
    "                print(\"you used this letter already\")\n",
    "                hangman_game(word_list, search_list, count)\n",
    "            # check the indeces where it is present\n",
    "            else:\n",
    "                indices = [i for i,t in enumerate(word_list) if t == letter]\n",
    "                # loop throught the selected indices\n",
    "                for i in indices:\n",
    "                    search_list[i] = letter\n",
    "                print(f\"This was successful: {search_list}\")\n",
    "                \n",
    "                # check winning condition\n",
    "                if search_list == word_list:\n",
    "                    print(\"Hey Ho you won\")\n",
    "                    return None\n",
    "                #  \n",
    "                else:\n",
    "                    hangman_game(word_list, search_list, count)\n",
    "        else:\n",
    "            count -= 1\n",
    "            print(f\"Ops you lost a life: {count} left\")\n",
    "            hangman_game(word_list, search_list, count)\n",
    "    else:\n",
    "        print(\"Please provide a letter only\")\n",
    "        hangman_game(word_list,search_list, count)\n",
    "        \n",
    "hangman_game(word_list, search_list, count)"
   ]
  },
  {
   "cell_type": "code",
   "execution_count": null,
   "id": "d704c85b",
   "metadata": {},
   "outputs": [],
   "source": [
    "# first version while loop\n",
    "# create a version of a hangman game\n",
    "import random\n",
    "count = 10\n",
    "word = random.choice(list_of_words)\n",
    "word = word.lower()\n",
    "word_list = list(word)\n",
    "search_list = len(word_list) * [\"_\"]\n",
    "while True:\n",
    "    \"\"\" Search \"\"\"\n",
    "    print(search_list)\n",
    "    letter = input(\"Select a letter\").lower()\n",
    "    if count == 0:\n",
    "        print(\"You lost the game\")\n",
    "        break\n",
    "    if len(letter) == 1:\n",
    "        # check if present in the list\n",
    "        if letter in word_list:\n",
    "            indices = [i for i,t in enumerate(word_list) if t == letter]\n",
    "            # loop throught the selected indices\n",
    "            for i in indices:\n",
    "                search_list[i] = letter\n",
    "            print(f\"This was successful: {search_list}\")\n",
    "            if search_list == word_list:\n",
    "                print(\"Hey Ho you won\")\n",
    "                break\n",
    "        else:\n",
    "            count -= 1\n",
    "            print(f\"Ops you lost a life: {count} left\")      \n",
    "    else:\n",
    "        print(\"Please provide a letter only\")"
   ]
  },
  {
   "cell_type": "markdown",
   "id": "28471494",
   "metadata": {},
   "source": [
    "# Few games to challenge basic python skills"
   ]
  },
  {
   "cell_type": "markdown",
   "id": "122be74b",
   "metadata": {},
   "source": [
    "1.)\n",
    "Task:\n",
    "Given an integer, int, perform the following conditional actions:\n",
    "If int is odd, print Weird\n",
    "If int is even and in the inclusive range of 5 to 10, print Not Weird\n",
    "If int is even and greater than 20 , print Not Weird"
   ]
  },
  {
   "cell_type": "code",
   "execution_count": 8,
   "id": "e5599073",
   "metadata": {},
   "outputs": [
    {
     "name": "stdout",
     "output_type": "stream",
     "text": [
      "10\n",
      "0\n",
      "its even\n",
      "Not Weird\n",
      "exit\n",
      "Game ended\n"
     ]
    }
   ],
   "source": [
    "# solution\n",
    "# while loops is just to play the game frequently\n",
    "while True:    \n",
    "    integer = input()\n",
    "\n",
    "    # convert input to integer\n",
    "    # check if exit is written to exit the loop\n",
    "    try:\n",
    "        integer = int(integer)\n",
    "        print(integer%2)\n",
    "    except Exception as e:\n",
    "        if integer != \"exit\":\n",
    "            continue\n",
    "\n",
    "        print(\"Game ended\")\n",
    "        break\n",
    "    # check the modulus\n",
    "    if integer % 2 != 0:\n",
    "        print(\"Weird\")\n",
    "    else:\n",
    "        print(\"its even\")\n",
    "        if integer < 5 or integer < 11 or integer > 20:\n",
    "            print(\"Not Weird\")\n",
    "        else:\n",
    "            print(\"Weird\")\n"
   ]
  },
  {
   "cell_type": "markdown",
   "id": "fcedc77e",
   "metadata": {},
   "source": [
    "2.)In this challenge, the user enters a string and a substring. You have to print the number of times that the substring occurs in the given string. String traversal will take place from left to right, not from right to left.\n",
    "\n",
    "check the substrings:\n",
    "\n",
    "1.)\n",
    "string = \"ABCDCDC\"\n",
    "substring = \"CDC\"\n",
    "2.) \n",
    "string = \"AAAA\"\n",
    "substring = \"AB\"\n",
    "3.)\n",
    "string = \"CTGATAGATGATGATAAAATGGC\"\n",
    "substring = \"AAATGGC\""
   ]
  },
  {
   "cell_type": "code",
   "execution_count": null,
   "id": "87329ff6",
   "metadata": {},
   "outputs": [],
   "source": [
    "#Solution\n",
    "def count_substring(string, sub_string):\n",
    "    \"\"\"\n",
    "    count_substring function should count the substrings\n",
    "    in the queried string\n",
    "    args:\n",
    "        string type(str) -> string to match to\n",
    "        substring type(str)\n",
    "    returns:\n",
    "        count (int) -> number of occurences\n",
    "    \"\"\"\n",
    "    string_len = len(string)\n",
    "    sub_len = len(sub_string)\n",
    "    count = 0\n",
    "    for i in range(len(string)):\n",
    "        sliced_string = string[i:i+sub_len]\n",
    "        if sub_string == sliced_string:\n",
    "            count+=1\n",
    "        \n",
    "    return count\n"
   ]
  },
  {
   "cell_type": "markdown",
   "id": "180acceb",
   "metadata": {},
   "source": [
    "3.)\n",
    "Question:\n",
    "An extra day is added to the calendar almost every four years as February 29, and the day is called a leap day. It corrects the calendar for the fact that our planet takes approximately 365.25 days to orbit the sun. A leap year contains a leap day.\n",
    "In the Gregorian calendar, three conditions are used to identify leap years:\n",
    "The year can be evenly divided by 4, is a leap year, unless:\n",
    "The year can be evenly divided by 100, it is NOT a leap year, unless:\n",
    "The year is also evenly divisible by 400. Then it is a leap year.\n",
    "This means that in the Gregorian calendar, the years 2000 and 2400 are leap years, while 1800, 1900, 2100, 2200, 2300 and 2500 are NOT leap years. \n",
    "\n",
    "Examples:\n",
    "1990\n",
    "2020\n",
    "2000\n",
    "2100"
   ]
  },
  {
   "cell_type": "code",
   "execution_count": null,
   "id": "08ac5b6d",
   "metadata": {},
   "outputs": [],
   "source": [
    "# Solution\n",
    "def is_leap(year):\n",
    "    leap = False\n",
    "    if year % 4 == 0:\n",
    "        if (year % 100 == 0) and (year % 400 != 0):\n",
    "            leap = False\n",
    "        else:\n",
    "            leap = True    \n",
    "    return leap"
   ]
  },
  {
   "cell_type": "code",
   "execution_count": null,
   "id": "27487cd9",
   "metadata": {},
   "outputs": [],
   "source": []
  }
 ],
 "metadata": {
  "kernelspec": {
   "display_name": "neuroscience_beginner",
   "language": "python",
   "name": "python3"
  },
  "language_info": {
   "codemirror_mode": {
    "name": "ipython",
    "version": 3
   },
   "file_extension": ".py",
   "mimetype": "text/x-python",
   "name": "python",
   "nbconvert_exporter": "python",
   "pygments_lexer": "ipython3",
   "version": "3.9.15"
  },
  "vscode": {
   "interpreter": {
    "hash": "b29e83ee11e7f59cb38c31a3bdf4f8395742e175511a4c2dd46f06d53a300255"
   }
  }
 },
 "nbformat": 4,
 "nbformat_minor": 5
}
