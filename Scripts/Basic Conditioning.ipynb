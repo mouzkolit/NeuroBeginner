{
 "cells": [
  {
   "attachments": {},
   "cell_type": "markdown",
   "metadata": {},
   "source": [
    "# Basic Conditioning\n",
    "<br>\n",
    "This Notebook should act as an overview how conditioning works in python. In general an overview about operators can be found in the Basic Operators Notebook. This combined with the information here can help to understand and introduce Conditioning!!!"
   ]
  },
  {
   "attachments": {},
   "cell_type": "markdown",
   "metadata": {},
   "source": [
    "## What is Conditioning\n",
    "<br>\n",
    "\n",
    "Conditioning allows us to evaluate certain conditions of variables e.g. We can check if a list is of certain length, or if the first number in the list is equal to 0, or if a variable exists or is in a None state (basically you can check everything you can imagine). It is important that each if statement opens a new block, which can consist of one if statement, multiple elifs statements and one else statement. If you have just one condition to check than also only one if statement would be enough. But be aware using multiple if statements instead of elifs will execute each if statement if true. By contrast using if elif else will ensure that only the condition that is evaluated as True will be executed. An example for this is provided below underneath general conditioning. In addition conditioning can be used for every available data structure and data types such as ints, floats, strings, lists, tuples, dictionaries, sets, arrays and general object created on your own."
   ]
  },
  {
   "cell_type": "code",
   "execution_count": 21,
   "metadata": {},
   "outputs": [],
   "source": [
    "# try the initialization with any integer, float or string and also in addition set it to the key word none\n",
    "number = None\n",
    "number_2 = 8"
   ]
  },
  {
   "cell_type": "code",
   "execution_count": 22,
   "metadata": {},
   "outputs": [
    {
     "name": "stdout",
     "output_type": "stream",
     "text": [
      "number is not existing\n",
      "8\n"
     ]
    }
   ],
   "source": [
    "# general condition \n",
    "if number:\n",
    "    print(number)\n",
    "else:\n",
    "    print(\"number is not existing\")\n",
    "    \n",
    "if number_2:\n",
    "    print(number_2)\n",
    "else:\n",
    "    print(\"number is not existing\")"
   ]
  },
  {
   "cell_type": "code",
   "execution_count": 23,
   "metadata": {},
   "outputs": [
    {
     "name": "stdout",
     "output_type": "stream",
     "text": [
      "More than one element inside the List\n"
     ]
    }
   ],
   "source": [
    "# You can also just use if \n",
    "list_a = [1,2,3,4,5,6,7]\n",
    "\n",
    "# this is working of course without elif and else\n",
    "if len(list_a) > 1:\n",
    "    print(\"More than one element inside the List\")"
   ]
  },
  {
   "cell_type": "code",
   "execution_count": 24,
   "metadata": {},
   "outputs": [
    {
     "name": "stdout",
     "output_type": "stream",
     "text": [
      "longer than one elements\n"
     ]
    }
   ],
   "source": [
    "# But be aware using the following\n",
    "if len(list_a) > 1:\n",
    "    print(\"longer than one elements\")\n",
    "elif len(list_a)> 3:\n",
    "    print(\"longer than three elements\")\n",
    "else:\n",
    "    print(\"very long list\")\n",
    "    \n",
    "# As you can see only the if statement is evaluated, also the elif statement is certainly true! This is because if elif and else evaluate as one block, \n",
    "# if one of the if, elif statements become true the others are not evaluated any more."
   ]
  },
  {
   "cell_type": "code",
   "execution_count": 25,
   "metadata": {},
   "outputs": [
    {
     "name": "stdout",
     "output_type": "stream",
     "text": [
      "longer than one elements\n",
      "longer than three elements\n",
      "very long list\n"
     ]
    }
   ],
   "source": [
    "#To avoid this you can use multiple ifs\n",
    "# Each if will be evaluated on its own, because it represents a new if statement block\n",
    "if len(list_a) > 1:\n",
    "    print(\"longer than one elements\")\n",
    "if len(list_a) > 3:\n",
    "    print(\"longer than three elements\")\n",
    "if len(list_a) > 5:\n",
    "    print(\"very long list\")\n",
    "    "
   ]
  },
  {
   "attachments": {},
   "cell_type": "markdown",
   "metadata": {},
   "source": [
    "### You can use comparison or equality or membership operators in conditions\n",
    "\n",
    "This allows you to check e.g. if a value is a member of a list, or if a value equals another value"
   ]
  },
  {
   "cell_type": "code",
   "execution_count": 26,
   "metadata": {},
   "outputs": [
    {
     "name": "stdout",
     "output_type": "stream",
     "text": [
      "Both are equal\n"
     ]
    }
   ],
   "source": [
    "value_1 = 1\n",
    "value_2 = 1\n",
    "if value_1 == value_2: # you can replace by other comparison operators such as >, <, >=, <=, !=\n",
    "    print(\"Both are equal\")"
   ]
  },
  {
   "cell_type": "code",
   "execution_count": 27,
   "metadata": {},
   "outputs": [
    {
     "name": "stdout",
     "output_type": "stream",
     "text": [
      "This condition is met!\n",
      "Condition is met\n",
      "Condition is not met\n"
     ]
    }
   ],
   "source": [
    "# we can chain multiple conditions that should be true by using logial operators\n",
    "value_1 = 5\n",
    "value_2 = 9\n",
    "\n",
    "if (value_1 >4) and (value_2 > 8): # value_1 is bigger than 4 and value_2 is bigger than 8 therefore this statement is true\n",
    "    print(\"This condition is met!\")\n",
    "\n",
    "# using or allows us that either both statements are true, or only one of the is true\n",
    "if (value_1 < 3) or (value_2 > 8):\n",
    "    print(\"Condition is met\")\n",
    "\n",
    "# while the condition is not met when no statements are True   \n",
    "if (value_1 < 3) or (value_2 > 10):\n",
    "    print(\"Condition is met\")\n",
    "else:\n",
    "    print(\"Condition is not met\")   "
   ]
  },
  {
   "cell_type": "code",
   "execution_count": 20,
   "metadata": {},
   "outputs": [
    {
     "data": {
      "text/plain": [
       "8"
      ]
     },
     "execution_count": 20,
     "metadata": {},
     "output_type": "execute_result"
    }
   ],
   "source": [
    "# we can also set variable like this\n",
    "# e.g.\n",
    "# you can see that if can also be used as inline statement to return or define new variables that depends on other variables\n",
    "# change the number_2 to 3, to see what happens\n",
    "# important the structure of the if inline statement: expression if condition else expression\n",
    "number_2 = 9\n",
    "number_3 = number_2 if number_2 < 4 else 8\n",
    "number_3"
   ]
  }
 ],
 "metadata": {
  "kernelspec": {
   "display_name": "neuroscience_beginner",
   "language": "python",
   "name": "python3"
  },
  "language_info": {
   "codemirror_mode": {
    "name": "ipython",
    "version": 3
   },
   "file_extension": ".py",
   "mimetype": "text/x-python",
   "name": "python",
   "nbconvert_exporter": "python",
   "pygments_lexer": "ipython3",
   "version": "3.10.8 (main, Nov 24 2022, 08:08:27) [Clang 14.0.6 ]"
  },
  "orig_nbformat": 4,
  "vscode": {
   "interpreter": {
    "hash": "b29e83ee11e7f59cb38c31a3bdf4f8395742e175511a4c2dd46f06d53a300255"
   }
  }
 },
 "nbformat": 4,
 "nbformat_minor": 2
}
