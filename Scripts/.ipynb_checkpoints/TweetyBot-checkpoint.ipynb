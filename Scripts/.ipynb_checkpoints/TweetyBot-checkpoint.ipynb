{
 "cells": [
  {
   "cell_type": "code",
   "execution_count": 16,
   "id": "67f1c014",
   "metadata": {},
   "outputs": [],
   "source": [
    "def preprocess(text):\n",
    "    # Remove hashtags, mentions, and URLs\n",
    "    text = ' '.join(word for word in text.split() if not word.startswith('#') and not word.startswith('@') and not word.startswith('http'))\n",
    "    # Remove punctuation and convert to lowercase\n",
    "    text = text.translate(str.maketrans('', '', string.punctuation)).lower()\n",
    "    # Tokenize and lemmatize\n",
    "    tokens = nltk.word_tokenize(text)\n",
    "    lemmatizer = WordNetLemmatizer()\n",
    "    tokens = [lemmatizer.lemmatize(token) for token in tokens]\n",
    "    return tokens"
   ]
  },
  {
   "cell_type": "code",
   "execution_count": 17,
   "id": "c4a0c75e",
   "metadata": {},
   "outputs": [
    {
     "data": {
      "text/plain": [
       "<AxesSubplot: >"
      ]
     },
     "execution_count": 17,
     "metadata": {},
     "output_type": "execute_result"
    },
    {
     "data": {
      "image/png": "[encoded data removed]",
      "text/plain": [
       "<Figure size 432x288 with 1 Axes>"
      ]
     },
     "metadata": {
      "needs_background": "light"
     },
     "output_type": "display_data"
    }
   ],
   "source": [
    "import tweepy\n",
    "import pandas as pd\n",
    "from gensim.models import doc2vec\n",
    "import umap\n",
    "import string\n",
    "import nltk\n",
    "from nltk.stem import WordNetLemmatizer\n",
    "import seaborn as sns\n",
    "\n",
    "# Authenticate with Twitter API\n",
    "\n",
    "auth = auth = tweepy.OAuth2BearerHandler(\"AAAAAAAAAAAAAAAAAAAAANMbkgEAAAAAF6hgiRz3HQvJSicgH%2B80AXoEY%2Fg%3DtPa8gawDk48qlx8YIRtO940oHKndrxK9RotxWDpRbNY7RED9Nf\")\n",
    "api = tweepy.API(auth)\n",
    "\n",
    "# Query Twitter API for pain-related tweets\n",
    "query = 'pain'\n",
    "tweets = tweepy.Cursor(api.search_tweets, q=query).items(500)\n",
    "\n",
    "# Store tweets in a Pandas dataframe\n",
    "tweet_list = []\n",
    "for tweet in tweets:\n",
    "    tweet_list.append({'text': tweet.text, 'created_at': tweet.created_at})\n",
    "df = pd.DataFrame(tweet_list)\n",
    "\n",
    "# Train doc2vec model on tweets\n",
    "documents = [doc2vec.TaggedDocument(preprocess(tweet), [i]) for i, tweet in enumerate(df['text'])]\n",
    "model = doc2vec.Doc2Vec(documents, vector_size=50, window=2, min_count=1, workers=4)\n",
    "\n",
    "# Transform tweet vectors using UMAP\n",
    "vectors = [model.infer_vector(preprocess(tweet)) for tweet in df['text']]\n",
    "umap_model = umap.UMAP(n_components=2)\n",
    "umap_vectors = umap_model.fit_transform(vectors)\n",
    "\n",
    "# Plot tweet clusters using UMAP vectors\n",
    "sns.scatterplot(x = umap_vectors[:, 0], y = umap_vectors[:, 1])"
   ]
  },
  {
   "cell_type": "code",
   "execution_count": 18,
   "id": "9339c9e7",
   "metadata": {},
   "outputs": [
    {
     "data": {
      "text/html": [
       "<div>\n",
       "<style scoped>\n",
       "    .dataframe tbody tr th:only-of-type {\n",
       "        vertical-align: middle;\n",
       "    }\n",
       "\n",
       "    .dataframe tbody tr th {\n",
       "        vertical-align: top;\n",
       "    }\n",
       "\n",
       "    .dataframe thead th {\n",
       "        text-align: right;\n",
       "    }\n",
       "</style>\n",
       "<table border=\"1\" class=\"dataframe\">\n",
       "  <thead>\n",
       "    <tr style=\"text-align: right;\">\n",
       "      <th></th>\n",
       "      <th>text</th>\n",
       "      <th>created_at</th>\n",
       "    </tr>\n",
       "  </thead>\n",
       "  <tbody>\n",
       "    <tr>\n",
       "      <th>0</th>\n",
       "      <td>RT @Jessicasquared9: Let me kiss that pain away</td>\n",
       "      <td>2022-12-19 10:20:59+00:00</td>\n",
       "    </tr>\n",
       "    <tr>\n",
       "      <th>1</th>\n",
       "      <td>Waddle en matter dey pain. I kai the time I no...</td>\n",
       "      <td>2022-12-19 10:20:59+00:00</td>\n",
       "    </tr>\n",
       "    <tr>\n",
       "      <th>2</th>\n",
       "      <td>RT @namu_xs: https://t.co/gpZp4r1NeV</td>\n",
       "      <td>2022-12-19 10:20:58+00:00</td>\n",
       "    </tr>\n",
       "    <tr>\n",
       "      <th>3</th>\n",
       "      <td>RT @jibrildazhi: Peace be upon the afflicted w...</td>\n",
       "      <td>2022-12-19 10:20:58+00:00</td>\n",
       "    </tr>\n",
       "    <tr>\n",
       "      <th>4</th>\n",
       "      <td>RT @I_Am_Winter: Criss Waddle dey go through a...</td>\n",
       "      <td>2022-12-19 10:20:57+00:00</td>\n",
       "    </tr>\n",
       "    <tr>\n",
       "      <th>...</th>\n",
       "      <td>...</td>\n",
       "      <td>...</td>\n",
       "    </tr>\n",
       "    <tr>\n",
       "      <th>495</th>\n",
       "      <td>RT @ramblingsofafan: The heartbreak when Yeong...</td>\n",
       "      <td>2022-12-19 10:14:49+00:00</td>\n",
       "    </tr>\n",
       "    <tr>\n",
       "      <th>496</th>\n",
       "      <td>@brian___jethro Edey pain you ooo😂😂😂😂😂😂🤣🤣🤣🤣🤣🤣🤣...</td>\n",
       "      <td>2022-12-19 10:14:48+00:00</td>\n",
       "    </tr>\n",
       "    <tr>\n",
       "      <th>497</th>\n",
       "      <td>RT @ExtraAttemptALL: Pain of JEE Aspirants rig...</td>\n",
       "      <td>2022-12-19 10:14:47+00:00</td>\n",
       "    </tr>\n",
       "    <tr>\n",
       "      <th>498</th>\n",
       "      <td>RT @Ur_QUEEN69: Only people born in this week ...</td>\n",
       "      <td>2022-12-19 10:14:46+00:00</td>\n",
       "    </tr>\n",
       "    <tr>\n",
       "      <th>499</th>\n",
       "      <td>RT @Yaoyaobae: love how my chap 7 thread went ...</td>\n",
       "      <td>2022-12-19 10:14:46+00:00</td>\n",
       "    </tr>\n",
       "  </tbody>\n",
       "</table>\n",
       "<p>500 rows × 2 columns</p>\n",
       "</div>"
      ],
      "text/plain": [
       "                                                  text  \\\n",
       "0      RT @Jessicasquared9: Let me kiss that pain away   \n",
       "1    Waddle en matter dey pain. I kai the time I no...   \n",
       "2                 RT @namu_xs: https://t.co/gpZp4r1NeV   \n",
       "3    RT @jibrildazhi: Peace be upon the afflicted w...   \n",
       "4    RT @I_Am_Winter: Criss Waddle dey go through a...   \n",
       "..                                                 ...   \n",
       "495  RT @ramblingsofafan: The heartbreak when Yeong...   \n",
       "496  @brian___jethro Edey pain you ooo😂😂😂😂😂😂🤣🤣🤣🤣🤣🤣🤣...   \n",
       "497  RT @ExtraAttemptALL: Pain of JEE Aspirants rig...   \n",
       "498  RT @Ur_QUEEN69: Only people born in this week ...   \n",
       "499  RT @Yaoyaobae: love how my chap 7 thread went ...   \n",
       "\n",
       "                   created_at  \n",
       "0   2022-12-19 10:20:59+00:00  \n",
       "1   2022-12-19 10:20:59+00:00  \n",
       "2   2022-12-19 10:20:58+00:00  \n",
       "3   2022-12-19 10:20:58+00:00  \n",
       "4   2022-12-19 10:20:57+00:00  \n",
       "..                        ...  \n",
       "495 2022-12-19 10:14:49+00:00  \n",
       "496 2022-12-19 10:14:48+00:00  \n",
       "497 2022-12-19 10:14:47+00:00  \n",
       "498 2022-12-19 10:14:46+00:00  \n",
       "499 2022-12-19 10:14:46+00:00  \n",
       "\n",
       "[500 rows x 2 columns]"
      ]
     },
     "execution_count": 18,
     "metadata": {},
     "output_type": "execute_result"
    }
   ],
   "source": [
    "df"
   ]
  }
 ],
 "metadata": {
  "kernelspec": {
   "display_name": "neuroscience_course",
   "language": "python",
   "name": "neuroscience_course"
  },
  "language_info": {
   "codemirror_mode": {
    "name": "ipython",
    "version": 3
   },
   "file_extension": ".py",
   "mimetype": "text/x-python",
   "name": "python",
   "nbconvert_exporter": "python",
   "pygments_lexer": "ipython3",
   "version": "3.10.8"
  }
 },
 "nbformat": 4,
 "nbformat_minor": 5
}
