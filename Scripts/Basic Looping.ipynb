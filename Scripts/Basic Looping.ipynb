{
 "cells": [
  {
   "attachments": {},
   "cell_type": "markdown",
   "metadata": {},
   "source": [
    "# Basic Looping in Python"
   ]
  },
  {
   "attachments": {},
   "cell_type": "markdown",
   "metadata": {},
   "source": [
    "<p> Loops are used to execute a block of code in Python repeatedly for a certain number of time until a precise condition is met:\n",
    "<br>\n",
    "<br>\n",
    "Currently two types of loops are used in python:\n",
    "<br>\n",
    "\n",
    "**for loops**: \n",
    "<br>A for loop is used to iterate over a sequence (iterator) such as list, tuples, sets, dictionaries, arrays or strings\n",
    "The general Syntax: \n",
    "<br> *for variable in sequence:*\n",
    "<br>\n",
    "<br>\n",
    "\n",
    "**while loop**: \n",
    "<br> A while loop is an infinite loop that needs a precise breaking/base condition.\n",
    "The general Syntax:\n",
    "<br>\n",
    "while condition is True:\n",
    "    ....\n",
    "        "
   ]
  },
  {
   "attachments": {},
   "cell_type": "markdown",
   "metadata": {},
   "source": [
    "## For Loops of Lists, Sets, Tuples and Strings"
   ]
  },
  {
   "cell_type": "code",
   "execution_count": 1,
   "metadata": {},
   "outputs": [
    {
     "name": "stdout",
     "output_type": "stream",
     "text": [
      "This is the list: [5, 'Hello', 1.5, True]\n",
      "This is the set: {1.5, 'Hello', 5, True}\n",
      "This is the tuple: (5, 'Hello', 1.5, True)\n"
     ]
    }
   ],
   "source": [
    "# First we set our data structures \n",
    "loop_list = [5,\"Hello\",1.5, True] #this implements a list\n",
    "loop_set = set(loop_list) # this implements a set out of the list --> conversion\n",
    "loop_tuple = tuple(loop_list)# and this makes a tuple out of the set\n",
    "\n",
    "print(f\"This is the list: {loop_list}\")\n",
    "print(f\"This is the set: {loop_set}\")\n",
    "print(f\"This is the tuple: {loop_tuple}\")"
   ]
  },
  {
   "attachments": {},
   "cell_type": "markdown",
   "metadata": {},
   "source": [
    "### How to loop through lists,sets and tuples\n",
    "You can use them interchangable, since all of the represent a sequence.\n",
    "<br>\n",
    "The range function provides a sequence from zero to the value that you add as parameter of the range function such as len(loop_list)\n",
    "<br>\n",
    "The enumerator function provides a list of tuples [(index, value)] for each element in the list\n"
   ]
  },
  {
   "cell_type": "code",
   "execution_count": 3,
   "metadata": {},
   "outputs": [
    {
     "name": "stdout",
     "output_type": "stream",
     "text": [
      "Values loop:5\n",
      "Values loop:Hello\n",
      "Values loop:1.5\n",
      "Values loop:True\n",
      "Indeces loop:0\n",
      "Indeces loop:1\n",
      "Indeces loop:2\n",
      "Indeces loop:3\n",
      "Index, Value Loop: 0,1.5\n",
      "Index, Value Loop: 1,Hello\n",
      "Index, Value Loop: 2,5\n",
      "Index, Value Loop: 3,True\n"
     ]
    }
   ],
   "source": [
    "# this loops through values of the list\n",
    "for i in loop_list:\n",
    "    print(\"Values loop:\"+ str(i))\n",
    "\n",
    "#this loops through the indeces of the list   \n",
    "for i in range(len(loop_list)):\n",
    "    print(\"Indeces loop:\" + str(i))\n",
    "    \n",
    "# this loops through the indeces and the values at the same time  \n",
    "for i,t in enumerate(loop_set):\n",
    "    print(\"Index, Value Loop: \" + str(i) + \",\" + str(t))"
   ]
  },
  {
   "cell_type": "code",
   "execution_count": 11,
   "metadata": {},
   "outputs": [
    {
     "name": "stdout",
     "output_type": "stream",
     "text": [
      "h\n",
      "e\n",
      "l\n",
      "l\n",
      "o\n"
     ]
    }
   ],
   "source": [
    "# What happens with a string?\n",
    "word = \"hello\"\n",
    "for i in word:\n",
    "    print(i) # you can see that it is unpacked to the minimal unit which would be the letter"
   ]
  },
  {
   "attachments": {},
   "cell_type": "markdown",
   "metadata": {},
   "source": [
    "### Loop through dictionary\n",
    "We can also loop through dictionaries. The default iterator of a dictionary is the keys. If we use the values() function we can create a list of values that serves as iterator. We can use this as a normal list to loop throught. You can also use the keys() function to represent a list of keys. But for looping the variable name of the dict is enough to go through each individual key"
   ]
  },
  {
   "cell_type": "code",
   "execution_count": 14,
   "metadata": {},
   "outputs": [],
   "source": [
    "# Initialize a Dictionary\n",
    "loop_dict = {\"key\": 1, \"key_2\": 2}"
   ]
  },
  {
   "cell_type": "code",
   "execution_count": 13,
   "metadata": {},
   "outputs": [
    {
     "name": "stdout",
     "output_type": "stream",
     "text": [
      "dict_keys(['key', 'key_2'])\n",
      "dict_values([1, 2])\n"
     ]
    }
   ],
   "source": [
    "# Let us shortly check for keys and values\n",
    "print(loop_dict.keys()) # this prints a list of all thekeys\n",
    "print(loop_dict.values()) # this prints a list of all the values"
   ]
  },
  {
   "cell_type": "code",
   "execution_count": 15,
   "metadata": {},
   "outputs": [
    {
     "name": "stdout",
     "output_type": "stream",
     "text": [
      "The key is: key\n",
      "The key is: key_2\n",
      "The value is: 1\n",
      "The value is: 2\n",
      "The key is: key and the value is 1\n",
      "The key is: key_2 and the value is 2\n"
     ]
    }
   ],
   "source": [
    "# loop through the keys\n",
    "for i in loop_dict:\n",
    "    print(\"The key is: \" + str(i))\n",
    "    \n",
    "for i in loop_dict.values():\n",
    "    print(\"The value is: \" + str(i))\n",
    "    \n",
    "for i,t in loop_dict.items():\n",
    "    print(\"The key is: \" + str(i)+ \" and the value is \" + str(t))"
   ]
  },
  {
   "attachments": {},
   "cell_type": "markdown",
   "metadata": {},
   "source": [
    "### How can we loop through two or more lists?\n",
    "For this we can use the zip function which zips together our lists to the least amount of numbers available in any of the lists\n"
   ]
  },
  {
   "cell_type": "code",
   "execution_count": 16,
   "metadata": {},
   "outputs": [
    {
     "name": "stdout",
     "output_type": "stream",
     "text": [
      "[(1, 1, 1), (2, 2, 3), (3, 3, 4)]\n"
     ]
    }
   ],
   "source": [
    "# make three new lists\n",
    "list_a = [1,2,3]\n",
    "list_b = [1,2,3,4,5]\n",
    "list_c = [1,3,4]\n",
    "\n",
    "# check how a zip object looks like\n",
    "print(list(zip(list_a, list_b, list_c)))\n",
    "# as you can see the it represent a list of tuples so we can just use it as a normal list evaluate each tuple\n",
    "# you can also see how it does connect the lists based on indeces \n",
    "# tuple 1 only represents number of the first index of each list"
   ]
  },
  {
   "cell_type": "code",
   "execution_count": 17,
   "metadata": {},
   "outputs": [
    {
     "name": "stdout",
     "output_type": "stream",
     "text": [
      "This is the unpacked tuple of the list: (1, 1, 1)\n",
      "This is the unpacked tuple of the list: (2, 2, 3)\n",
      "This is the unpacked tuple of the list: (3, 3, 4)\n"
     ]
    }
   ],
   "source": [
    "# without tuple unpacking:\n",
    "for i in zip(list_a, list_b, list_c):\n",
    "    print(\"This is the unpacked tuple of the list: \" + str(i))"
   ]
  },
  {
   "cell_type": "code",
   "execution_count": 18,
   "metadata": {},
   "outputs": [
    {
     "name": "stdout",
     "output_type": "stream",
     "text": [
      "This is the value of the first list: 1\n",
      "This is the value of the second list: 1\n",
      "This is the value of the third list: 1\n",
      "This is the value of the first list: 2\n",
      "This is the value of the second list: 2\n",
      "This is the value of the third list: 3\n",
      "This is the value of the first list: 3\n",
      "This is the value of the second list: 3\n",
      "This is the value of the third list: 4\n"
     ]
    }
   ],
   "source": [
    "# with tuple unpacking\n",
    "# maybe to remember what tuple unpacking means:\n",
    "# consider a tuple like this a = (1,2)\n",
    "# we can unpack each indivdual member of the tuple in its own variable\n",
    "# instead of writing a we would write: a,b = (1,2)\n",
    "# This means that a represents 1 and b represents two\n",
    "# If my tuple would be of lengths three instead of two I would need 3 variables... and so on\n",
    "for value_a, value_b, value_c in zip(list_a, list_b, list_c):\n",
    "    print(\"This is the value of the first list: \" + str(value_a))\n",
    "    print(\"This is the value of the second list: \" + str(value_b))\n",
    "    print(\"This is the value of the third list: \" + str(value_c))"
   ]
  }
 ],
 "metadata": {
  "kernelspec": {
   "display_name": "neuroscience_beginner",
   "language": "python",
   "name": "python3"
  },
  "language_info": {
   "codemirror_mode": {
    "name": "ipython",
    "version": 3
   },
   "file_extension": ".py",
   "mimetype": "text/x-python",
   "name": "python",
   "nbconvert_exporter": "python",
   "pygments_lexer": "ipython3",
   "version": "3.10.8"
  },
  "orig_nbformat": 4,
  "vscode": {
   "interpreter": {
    "hash": "b29e83ee11e7f59cb38c31a3bdf4f8395742e175511a4c2dd46f06d53a300255"
   }
  }
 },
 "nbformat": 4,
 "nbformat_minor": 2
}
