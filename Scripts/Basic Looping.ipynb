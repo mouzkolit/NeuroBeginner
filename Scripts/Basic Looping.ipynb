{
 "cells": [
  {
   "attachments": {},
   "cell_type": "markdown",
   "metadata": {},
   "source": [
    "# Basic Looping in Python"
   ]
  },
  {
   "attachments": {},
   "cell_type": "markdown",
   "metadata": {},
   "source": [
    "<p> Loops are used to execute a block of code in Python repeatedly for a certain number of time until a precise condition is met:\n",
    "<br>\n",
    "<br>\n",
    "Currently two types of loops are supported in Python:\n",
    "<br>\n",
    "\n",
    "**for loops**: \n",
    "<br>A for loop is used to iterate over a sequence (iterator) such as list, tuples, sets, dictionaries, arrays or strings\n",
    "The general Syntax: \n",
    "<br> *for variable in sequence:*\n",
    "<br>\n",
    "<br>\n",
    "\n",
    "**while loop**: \n",
    "<br> A while loop is an infinite loop that needs a precise breaking/base condition.\n",
    "The general Syntax:\n",
    "<br>\n",
    "while condition is True:\n",
    "    ....\n",
    "        "
   ]
  },
  {
   "cell_type": "code",
   "execution_count": 2,
   "metadata": {},
   "outputs": [],
   "source": [
    "# Let us go through the four options of iterations \n",
    "# use four different data structures\n",
    "# have a look at the output\n",
    "loop_list = [5,\"Hello\",1.5, True]\n",
    "loop_set = set(loop_list)\n",
    "loop_tuple = tuple(loop_list)\n",
    "loop_dict = {\"number\": [1.5,5], \"string\": \"Hello\", \"Bool\": True}\n",
    "loop_str = \"Hello\"\n",
    "loop_int = 111\n",
    "loop_bool = True"
   ]
  },
  {
   "cell_type": "code",
   "execution_count": 4,
   "metadata": {},
   "outputs": [
    {
     "name": "stdout",
     "output_type": "stream",
     "text": [
      "5\n",
      "Hello\n",
      "1.5\n",
      "True\n",
      "5\n",
      "Hello\n",
      "1.5\n",
      "0 number\n",
      "1 string\n",
      "2 Bool\n"
     ]
    }
   ],
   "source": [
    "# replace loop_list by each individual data structure and check the output\n",
    "for i in loop_list:\n",
    "    print(i)\n",
    "# same\n",
    "for i in range(len(loop_dict)):\n",
    "    print(loop_list[i])\n",
    "    \n",
    "# same\n",
    "for index, value in enumerate(loop_dict):\n",
    "    print(index, value)"
   ]
  },
  {
   "cell_type": "code",
   "execution_count": 5,
   "metadata": {},
   "outputs": [
    {
     "name": "stdout",
     "output_type": "stream",
     "text": [
      "[2, 6, 5, 6, 4, 4]\n"
     ]
    }
   ],
   "source": [
    "# how to combine two lists\n",
    "list_a = [1,2,3,5,1,2]\n",
    "list_b = [1,4,2,1,3,2]\n",
    "agg_list = [] # should be the list that aggregates the the two lists\n",
    "\n",
    "# use enumerate in this case\n",
    "# what would happen if we would use list of different lengths?\n",
    "# especially when the first list is longer than the last?\n",
    "for index, value in enumerate(list_a):\n",
    "    agg_list.append(value + list_b[index])\n",
    "print(agg_list)"
   ]
  },
  {
   "cell_type": "code",
   "execution_count": 6,
   "metadata": {},
   "outputs": [
    {
     "name": "stdout",
     "output_type": "stream",
     "text": [
      "1 1\n",
      "2 4\n",
      "3 2\n",
      "5 1\n",
      "1 3\n",
      "2 2\n"
     ]
    }
   ],
   "source": [
    "# there is an easier way to do so !\n",
    "# use the zip command\n",
    "for value1, value2 in zip(list_a,list_b):\n",
    "    print(value1, value2)"
   ]
  },
  {
   "cell_type": "code",
   "execution_count": 7,
   "metadata": {},
   "outputs": [
    {
     "name": "stdout",
     "output_type": "stream",
     "text": [
      "[1, 2]\n"
     ]
    }
   ],
   "source": [
    "# Get the unique list of values from a list \n",
    "# Of course there is the easier way convert in set and then into list\n",
    "# But think about how to use a loop so that we can check if a value already exists\n",
    "# Use the continue function\n",
    "\n",
    "list_dups = [1,2,1,1,2,1,2,1]\n",
    "list_set = []\n",
    "for i in list_dups:\n",
    "    if i in list_set:\n",
    "        continue\n",
    "    else:\n",
    "        list_set.append(i)\n",
    "\n",
    "print(list_set)"
   ]
  },
  {
   "cell_type": "code",
   "execution_count": 8,
   "metadata": {},
   "outputs": [
    {
     "name": "stdout",
     "output_type": "stream",
     "text": [
      "[2, 7, 5, 11, 13, 12, 12, 13, 6]\n",
      "9.0\n",
      "13\n",
      "5\n",
      "11\n"
     ]
    }
   ],
   "source": [
    "# 1. add up two lists:\n",
    "# 2. calculate the mean of the added aggregated list \n",
    "# 3. retrieve the highest number from each list as well as from the aggregated list\n",
    "# 4. Do this all in one for loop\n",
    "list_a = [1,2,3,4,5,3,2,2,1]\n",
    "list_b = [1,5,2,7,8,9,10,11,5]\n",
    "\n",
    "agg_list = []\n",
    "mean_agg = 0\n",
    "highest_number = 0\n",
    "high_a = 0\n",
    "high_b = 0\n",
    "\n",
    "for i,t in zip(list_a, list_b):\n",
    "    agg_numb = i + t\n",
    "    agg_list.append(agg_numb)\n",
    "    mean_agg += agg_numb\n",
    "    \n",
    "    if agg_numb > highest_number:\n",
    "        highest_number = agg_numb\n",
    "        \n",
    "    if i > high_a:\n",
    "        high_a = i\n",
    "        \n",
    "    if t > high_b:\n",
    "        high_b = t\n",
    "        \n",
    "print(agg_list)\n",
    "print(mean_agg/len(agg_list))\n",
    "print(highest_number)\n",
    "print(high_a)\n",
    "print(high_b)"
   ]
  },
  {
   "cell_type": "code",
   "execution_count": 9,
   "metadata": {},
   "outputs": [
    {
     "name": "stdout",
     "output_type": "stream",
     "text": [
      "The sum of the list is: 14\n",
      "The maximum value of the list is: 4\n",
      "The minimum value of the list is: 1\n"
     ]
    }
   ],
   "source": [
    "# In general here are a few base functions that are used for lists\n",
    "# Just short explain the f string\n",
    "# Ask how string concatenation actually works?\n",
    "base_list = [1,4,2,4,1,2]\n",
    "print(f\"The sum of the list is: {sum(base_list)}\")\n",
    "print(f\"The maximum value of the list is: {max(base_list)}\")\n",
    "print(f\"The minimum value of the list is: {min(base_list)}\")"
   ]
  }
 ],
 "metadata": {
  "kernelspec": {
   "display_name": "neuroscience_beginner",
   "language": "python",
   "name": "python3"
  },
  "language_info": {
   "codemirror_mode": {
    "name": "ipython",
    "version": 3
   },
   "file_extension": ".py",
   "mimetype": "text/x-python",
   "name": "python",
   "nbconvert_exporter": "python",
   "pygments_lexer": "ipython3",
   "version": "3.10.8"
  },
  "orig_nbformat": 4,
  "vscode": {
   "interpreter": {
    "hash": "b29e83ee11e7f59cb38c31a3bdf4f8395742e175511a4c2dd46f06d53a300255"
   }
  }
 },
 "nbformat": 4,
 "nbformat_minor": 2
}
