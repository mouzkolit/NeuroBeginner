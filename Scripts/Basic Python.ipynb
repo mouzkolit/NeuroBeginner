{
 "cells": [
  {
   "attachments": {},
   "cell_type": "markdown",
   "id": "d14519eb",
   "metadata": {},
   "source": [
    "# Basics in Python"
   ]
  },
  {
   "cell_type": "markdown",
   "id": "32d9b13e",
   "metadata": {},
   "source": [
    "## Usually the First Lines correspond to imports \n",
    "<br>\n",
    "<p> Import Packages and Modules in Python:  Package Manger in Python is called pip. Pip can be used to download packages like Pandas, Seaborn and more which are not shipped with basic Python! When the package download and installation was succesful, packages can be imported as illustrated below. Usually this is performed at the top of your Script/Program ect. </p>\n",
    "\n",
    "<code> \n",
    "import package\n",
    "import * from package\n",
    "</code>\n",
    "<br>\n",
    "<p> The second import is called wild card import and should usually be avoided. Therefore usually directly import the used object such as: </p>\n",
    "<br>\n",
    "<code>\n",
    "from collections import Counter\n",
    "from pandas import melt\n",
    "</code>\n",
    "<br>\n",
    "\n",
    "<p> In addition we can also serve acronyms for the package like in: </p>\n",
    "<code> \n",
    "import pandas as pd\n",
    "import numpy as np\n",
    "</code>"
   ]
  },
  {
   "cell_type": "markdown",
   "id": "b32891fa",
   "metadata": {},
   "source": [
    "## Data Types in Pyton\n",
    "<br>\n",
    "<p> <b>Question:</b> What Data Types are available in Python ??? </p>"
   ]
  },
  {
   "cell_type": "code",
   "execution_count": 10,
   "id": "088691f5",
   "metadata": {},
   "outputs": [],
   "source": [
    "# The following Data Types can be found in python and used\n",
    "# integers\n",
    "number_int = 1\n",
    "number_int_2 = 15\n",
    "\n",
    "# floats \n",
    "number = 1.3\n",
    "number_2 = -1.5\n",
    "\n",
    "#booleans\n",
    "bools = True\n",
    "bools_2 = False\n",
    "\n",
    "#strings\n",
    "string_1 = \"hello\"\n",
    "string_2 = \"world\"\n",
    "\n",
    "#bytes and byte strings\n",
    "string_byte_1 = b'hello'"
   ]
  },
  {
   "cell_type": "code",
   "execution_count": 14,
   "id": "2d8fcba8",
   "metadata": {},
   "outputs": [
    {
     "name": "stdout",
     "output_type": "stream",
     "text": [
      "-0.19999999999999996\n",
      "1 15\n",
      "helloworld\n",
      "2\n"
     ]
    }
   ],
   "source": [
    "### The Python Interpreter can be used for calculations\n",
    "print(number + number_2)\n",
    "print(number_int, number_int_2)\n",
    "print(string_1 + string_2)\n",
    "print(bools + bools)"
   ]
  },
  {
   "cell_type": "markdown",
   "id": "48386fbe",
   "metadata": {},
   "source": [
    "### Data Structures in Pyton\n",
    "<br>\n",
    "<p> Data Structures are objects in Python that can held data of various types. The data structures can  usually distingushed between mutable and immutable data structures. </p>\n",
    "<br>\n",
    "<p> Usual Functions for sets: </p>\n",
    "<code>\n",
    "    set_1 = {1,2,3,4}\n",
    "    set_2 = {1,2,9}\n",
    "    set_1.add()\n",
    "    set_1.remove()\n",
    "    set_1.pop()\n",
    "    set_1.intersection(set_2)\n",
    "    set_1.union(set_2)\n",
    "    set_2.issubset(set_1)\n",
    "    next(iter(set_1))\n",
    "</code>\n",
    "<br>\n",
    "<p> Try yourself: build a using the following numbers (1,2,3,4,1,2,3,7,9). Create a second set with the numbers (10,1,7,9). Build the intersections and union after removing the 7 from the first set. <br> What are the results ? </br>\n",
    "</p> "
   ]
  },
  {
   "cell_type": "code",
   "execution_count": 33,
   "id": "ec5b010f",
   "metadata": {},
   "outputs": [
    {
     "data": {
      "text/plain": [
       "{1, 2, 3, 4, 7, 9, 10}"
      ]
     },
     "execution_count": 33,
     "metadata": {},
     "output_type": "execute_result"
    }
   ],
   "source": [
    "# Solution programmed\n",
    "set1 = {1,2,3,4,1,2,3,7,9}\n",
    "set2 = {10,1,7,9}\n",
    "set1.remove(7)\n",
    "set1.intersection(set2)\n",
    "set1.union(set2)"
   ]
  },
  {
   "cell_type": "markdown",
   "id": "b38267b7",
   "metadata": {},
   "source": [
    "## Data Structures in Pyton\n",
    "\n",
    "<br>\n",
    "Data Structures are objects in Python that can held data of various types. The data structures can usually distingushed between mutable and immutable data structures.\n",
    "\n",
    "<br>\n",
    "\n",
    "Usual Functions for lists:\n",
    "\n",
    "    list_1 = [1,2,3,4]\n",
    "    list_2 = [1,2,9]\n",
    "    list_1.append()\n",
    "    list_1.extend()\n",
    "    list_1.pop()\n",
    "    list_1[1:]\n",
    "    list_1 + list_2\n",
    "    list_1.extend(list_2)\n",
    "    list_1.append(list_2)\n",
    "    list_1.reverse()\n",
    "    next(iter(set_1))\n",
    "\n",
    "<br>\n",
    "Try yourself: build a using the following numbers (1,2,3,4,1,2,3,7,9). Create a second set with the numbers (10,1,7,9). Build the intersections and union after removing the 7 from the first set. \n",
    "What are the results ? "
   ]
  },
  {
   "cell_type": "code",
   "execution_count": 26,
   "id": "c1fbc98c",
   "metadata": {},
   "outputs": [
    {
     "data": {
      "text/plain": [
       "[1, 2, 3]"
      ]
     },
     "execution_count": 26,
     "metadata": {},
     "output_type": "execute_result"
    }
   ],
   "source": [
    "## Mistakes by reference\n",
    "list_a = [1,2,3,4]\n",
    "list_b = list_a.copy()\n",
    "list_b.pop()\n",
    "list_b"
   ]
  },
  {
   "cell_type": "code",
   "execution_count": 9,
   "id": "ca9bde9a",
   "metadata": {},
   "outputs": [
    {
     "name": "stdout",
     "output_type": "stream",
     "text": [
      "Yes\n"
     ]
    }
   ],
   "source": [
    "# if conditions\n",
    "# if:\n",
    "# elif:\n",
    "# else:\n",
    "# replace with if if instead of if else\n",
    "# or use a range instead of multiple queries\n",
    "value = 60\n",
    "# here we can use the operator\n",
    "if 60 <= value < 90:\n",
    "    print(\"Yes\")\n",
    "elif value < 80:\n",
    "    print(\"its below 80\")\n",
    "else:\n",
    "    print(\"No\")"
   ]
  },
  {
   "cell_type": "code",
   "execution_count": 1,
   "id": "af1eb876",
   "metadata": {},
   "outputs": [
    {
     "name": "stdout",
     "output_type": "stream",
     "text": [
      "You can become a Data Scientist\n"
     ]
    }
   ],
   "source": [
    "# we in addition have also a match switch statement\n",
    "# only possible in python 3.10\n",
    "# Can be used for ranges too \n",
    "# Its a good equivalent for elif collections\n",
    "lang = input(\"What's the programming language you want to learn? \")\n",
    "\n",
    "match lang:\n",
    "    case \"JavaScript\":\n",
    "        print(\"You can become a web developer.\")\n",
    "\n",
    "    case \"Python\":\n",
    "        print(\"You can become a Data Scientist\")\n",
    "\n",
    "    case \"PHP\":\n",
    "        print(\"You can become a backend developer\")\n",
    "    \n",
    "    case \"Solidity\":\n",
    "        print(\"You can become a Blockchain developer\")\n",
    "\n",
    "    case \"Java\":\n",
    "        print(\"You can become a mobile app developer\")\n",
    "    case _:\n",
    "        print(\"The language doesn't matter, what matters is solving problems.\")"
   ]
  },
  {
   "cell_type": "code",
   "execution_count": null,
   "id": "9485c217",
   "metadata": {},
   "outputs": [],
   "source": []
  },
  {
   "cell_type": "code",
   "execution_count": 14,
   "id": "0284447a",
   "metadata": {},
   "outputs": [
    {
     "name": "stdout",
     "output_type": "stream",
     "text": [
      "1\n",
      "2\n",
      "4\n",
      "4\n",
      "0 1\n",
      "1 2\n",
      "2 4\n",
      "3 4\n",
      "0 1\n",
      "1 2\n",
      "2 4\n",
      "3 4\n",
      "1 1\n",
      "2 2\n",
      "4 4\n",
      "4 4\n"
     ]
    }
   ],
   "source": [
    "# how to iterate over lists?\n",
    "# zip and no zip\n",
    "list_a = [1,2,4,4]\n",
    "for i in list_a:\n",
    "    print(i)\n",
    "    \n",
    "for i in range(len(list_a)):\n",
    "    print(i,list_a[i])\n",
    "    \n",
    "for index, value in enumerate(list_a):\n",
    "    print(index, value)\n",
    "    \n",
    "for i,t in zip(list_a, list_a):\n",
    "    print(i,t)\n",
    "    \n",
    "    \n",
    "###############################\n",
    "# exercise:\n",
    "# take list_a and only multiple if the index position is even\n",
    "# than update the list and replace the value\n",
    "################################\n",
    "# second excersise:\n",
    "# how can you print consecute letters like bigrams of words such as emma?\n",
    "# should be like:\n",
    "#em\n",
    "#mm\n",
    "#ma\n",
    "# use zip for this\n",
    "###############################"
   ]
  },
  {
   "cell_type": "code",
   "execution_count": 15,
   "id": "ba7bb22a",
   "metadata": {},
   "outputs": [
    {
     "name": "stdout",
     "output_type": "stream",
     "text": [
      "0\n",
      "2\n",
      "[2.0, 2, 0.5, 4]\n"
     ]
    }
   ],
   "source": [
    "# and here now we learn about exceptions!\n",
    "# try the same with division\n",
    "# what happens when a division by zero happens\n",
    "for index, value in enumerate(list_a):\n",
    "    if index % 2 == 0:\n",
    "        print(index)\n",
    "        list_a[index] = 2/value  \n",
    "    else:\n",
    "        list_a\n",
    "print(list_a)"
   ]
  },
  {
   "cell_type": "code",
   "execution_count": 21,
   "id": "6e0df21b",
   "metadata": {},
   "outputs": [
    {
     "name": "stdout",
     "output_type": "stream",
     "text": [
      "1\n",
      "0\n",
      "division by zero\n",
      "[2.0, 2, 0, 1]\n"
     ]
    }
   ],
   "source": [
    "# and here now we learn about exceptions!\n",
    "# try the same with division\n",
    "# what happens when a division by zero happens\n",
    "list_zero = [1,2,0,1]\n",
    "for index, value in enumerate(list_zero):\n",
    "    if index % 2 == 0:\n",
    "        print(value)\n",
    "        try:\n",
    "            list_zero[index] = 2/value  \n",
    "        except Exception as e:\n",
    "            print(e)\n",
    "            continue\n",
    "    else:\n",
    "        list_zero\n",
    "print(list_zero)"
   ]
  },
  {
   "cell_type": "code",
   "execution_count": 5,
   "id": "fc1fca36",
   "metadata": {},
   "outputs": [
    {
     "name": "stdout",
     "output_type": "stream",
     "text": [
      "Maximilian Zeidler\n",
      "Maximilian Zeidler\n",
      "{'teacher': 'Maximilian Zeidler', 'students': ['Student1', 'Student2']}\n",
      "{'teacher': 'Kai Kummer', 'students': ['Student1', 'Student2']}\n",
      "{'teacher': 'Kai Kummer', 'students': ['Student1', 'Student2', 'new_student2']}\n",
      "{'teacher': 'Kai Kummer', 'students': ['Student1', 'Student2', 'new_student2']}\n",
      "{'teacher': 'Kai Kummer', 'students': ['Student1', 'Student2', 'new_student2', 'new_student2']}\n"
     ]
    }
   ],
   "source": [
    "# dictionaries:\n",
    "# dictionaries evaluate like this\n",
    "# here you can see mutatbility\n",
    "# how to process the data\n",
    "course_dict = {\"teacher\": \"Maximilian Zeidler\", \"students\": [\"Student1\", \"Student2\"]}\n",
    "print(course_dict[\"teacher\"])\n",
    "print(course_dict.get(\"teacher\"))\n",
    "print(course_dict)\n",
    "course_dict.update({\"teacher\": \"Kai Kummer\"})\n",
    "print(course_dict)\n",
    "course_dict[\"students\"].append(\"new_student2\")\n",
    "print(course_dict)\n",
    "#course_dict.update({\"students\": \"New_student\"})\n",
    "print(course_dict)\n",
    "course_dict[\"students\"].append(\"new_student2\")\n",
    "print(course_dict)"
   ]
  },
  {
   "cell_type": "code",
   "execution_count": 25,
   "id": "ebb9d66b",
   "metadata": {},
   "outputs": [
    {
     "name": "stdout",
     "output_type": "stream",
     "text": [
      "teacher\n",
      "students\n",
      "K\n",
      "a\n",
      "i\n",
      " \n",
      "K\n",
      "u\n",
      "m\n",
      "m\n",
      "e\n",
      "r\n",
      "teacher Kai Kummer\n",
      "Student1\n",
      "Student2\n",
      "new_student2\n",
      "new_student2\n",
      "students ['Student1', 'Student2', 'new_student2', 'new_student2']\n",
      "teacher\n",
      "students\n",
      "Kai Kummer\n",
      "['Student1', 'Student2', 'new_student2', 'new_student2']\n"
     ]
    }
   ],
   "source": [
    "# loop through dictionaries\n",
    "for key in course_dict: # this loops through keys\n",
    "    print(key)\n",
    "    \n",
    "# go through all the keys   \n",
    "for key in course_dict.keys(): # runs through the keys # can you access the values per keys?\n",
    "    print(key) # same as first\n",
    "\n",
    "for value in course_dict.values(): # runs through the value\n",
    "    print(value)\n",
    "    \n",
    "# this should show the looping behavior with different data structures\n",
    "for key, value in course_dict.items():\n",
    "    for i in value:\n",
    "        print(i)\n",
    "    print(key, value)\n",
    "# question: build a dictionary of classmates and give them a mark for the course\n",
    "# then assign a new key with ranking if student has a 1 or 2 then rank him as top \n",
    "# else as ok\n",
    "# as a help making life more easier you cann also assign an empty list to a key"
   ]
  },
  {
   "cell_type": "code",
   "execution_count": null,
   "id": "516b59f2",
   "metadata": {},
   "outputs": [],
   "source": [
    "# Can you implement the switch statement as an Dictionary?"
   ]
  },
  {
   "cell_type": "code",
   "execution_count": 8,
   "id": "581915a3",
   "metadata": {},
   "outputs": [
    {
     "name": "stdout",
     "output_type": "stream",
     "text": [
      "hello world, its: morning\n"
     ]
    },
    {
     "data": {
      "text/plain": [
       "'morningdark'"
      ]
     },
     "execution_count": 8,
     "metadata": {},
     "output_type": "execute_result"
    }
   ],
   "source": [
    "def hello_world(daytime):\n",
    "    \"\"\"_summary_: Should Print Hello World\n",
    "    \"\"\"\n",
    "    print(f\"hello world, its: {daytime}\")\n",
    "    new_time = daytime + \"dark\"\n",
    "    return new_time\n",
    "    \n",
    "hello_world(\"morning\")"
   ]
  },
  {
   "cell_type": "code",
   "execution_count": null,
   "id": "21641506",
   "metadata": {},
   "outputs": [],
   "source": [
    "queried_list = [5,3,1,4,2,1]\n",
    "def add_with_value(queried_list, adder = 2):\n",
    "    for i in queried_list:\n",
    "        "
   ]
  },
  {
   "cell_type": "code",
   "execution_count": null,
   "id": "b70c0f3b",
   "metadata": {},
   "outputs": [],
   "source": [
    "# can you call a function that takes a list of lists as argument \n",
    "# [[1,2,3],[4,5,6],[7,8,9]] and returs the max number?\n",
    "# Can you also add doc strings to the function\n",
    "\n",
    "def max_of_list(queried_list: list[list]):\n",
    "    \"\"\"_summary_\n",
    "\n",
    "    Args:\n",
    "        queried_list (list[list]): \n",
    "    \"\"\"\n",
    "    number = 0\n",
    "    for liste in queried_list:\n",
    "        for value in liste:\n",
    "            if value > number:\n",
    "                number = value\n",
    "            else:\n",
    "                continue\n",
    "            \n",
    "    return number\n",
    "    "
   ]
  },
  {
   "cell_type": "code",
   "execution_count": 9,
   "id": "3405ba2f",
   "metadata": {},
   "outputs": [
    {
     "name": "stdout",
     "output_type": "stream",
     "text": [
      "10\n"
     ]
    }
   ],
   "source": [
    "# functional programming\n",
    "# lambdas\n",
    "from functools import reduce\n",
    "list_to_add = [1,2,3,4]\n",
    "\n",
    "# functional programming\n",
    "add_numbers = lambda x: x + 1 # add function\n",
    "filter_number = lambda x: x < 2 # filter function\n",
    "reduced_number = lambda x,y: x+y\n",
    "\n",
    "# apply the functions\n",
    "added_list = map(add_numbers,list_to_add) # creates a generator what is an generator? \n",
    "filtered_list = filter(filter_number,list_to_add)\n",
    "reduced_list = reduce(reduced_number, list_to_add) # its adds up the particular numbers\n",
    "\n",
    "print(reduced_list)\n"
   ]
  },
  {
   "cell_type": "code",
   "execution_count": 6,
   "id": "894f0924",
   "metadata": {},
   "outputs": [
    {
     "data": {
      "text/plain": [
       "[False, True]"
      ]
     },
     "execution_count": 6,
     "metadata": {},
     "output_type": "execute_result"
    }
   ],
   "source": [
    "# this could be an exercies!\n",
    "# \n",
    "def get_unique_values_from_list(queried_liste: list) -> list:\n",
    "    \"\"\" Function to retrieve the unique values from a inserted list\n",
    "    args:\n",
    "        queried_list type(list): values\"\"\"\n",
    "    list_trial = queried_liste\n",
    "    second_list = []\n",
    "    for i in list_trial:\n",
    "        if second_list:\n",
    "            if i in second_list:\n",
    "                continue\n",
    "            else:\n",
    "                second_list.append(i)\n",
    "        else:\n",
    "            second_list.append(i)\n",
    "    return second_list\n",
    "\n",
    "unique_list = get_unique_values_from_list([False, True, True, False])\n",
    "unique_list"
   ]
  },
  {
   "cell_type": "code",
   "execution_count": 16,
   "id": "9c3b8239",
   "metadata": {},
   "outputs": [
    {
     "name": "stdout",
     "output_type": "stream",
     "text": [
      "The teacher of the course: Data Science for Neuroscientists is Max Zeidler and the following students are in this course []\n",
      "The teacher of the course: Data Science for Neuroscientists is Max Zeidler and the following students are in this course ['Kai Kummer']\n"
     ]
    }
   ],
   "source": [
    "#classes\n",
    "class course:\n",
    "    def __init__(self, teacher: str, course_name: str) -> None:\n",
    "        \"\"\"_summary_\n",
    "\n",
    "        Args:\n",
    "            teacher (str): Teachers Name\n",
    "            course_name (str): Course Name\n",
    "        \"\"\"\n",
    "        self.teacher : str = teacher\n",
    "        self.course_name : str = course_name\n",
    "        self.students : list = []\n",
    "        \n",
    "    def greet_course(self):\n",
    "        print(\"Hello Data Scientist\")\n",
    "        \n",
    "    def add_student(self, student):\n",
    "        self.students.append(student)\n",
    "        \n",
    "    def get_students(self):\n",
    "        return self.students\n",
    "    \n",
    "    def get_teacher(self):\n",
    "        return self.teacher\n",
    "    \n",
    "    def set_teacher(self, teacher):\n",
    "        self.teacher = teacher\n",
    "        \n",
    "    def __str__(self):\n",
    "        return f\"The teacher of the course: {self.course_name} is {self.teacher} and the following students are in this course {self.students}\"   \n",
    "                \n",
    "neuroscience_course = course(\"Max Zeidler\", \"Data Science for Neuroscientists\")\n",
    "print(neuroscience_course)\n",
    "neuroscience_course.add_student(\"Kai Kummer\")\n",
    "print(neuroscience_course)\n"
   ]
  }
 ],
 "metadata": {
  "kernelspec": {
   "display_name": "neuroscience_beginner",
   "language": "python",
   "name": "python3"
  },
  "language_info": {
   "codemirror_mode": {
    "name": "ipython",
    "version": 3
   },
   "file_extension": ".py",
   "mimetype": "text/x-python",
   "name": "python",
   "nbconvert_exporter": "python",
   "pygments_lexer": "ipython3",
   "version": "3.10.8"
  },
  "vscode": {
   "interpreter": {
    "hash": "b29e83ee11e7f59cb38c31a3bdf4f8395742e175511a4c2dd46f06d53a300255"
   }
  }
 },
 "nbformat": 4,
 "nbformat_minor": 5
}
