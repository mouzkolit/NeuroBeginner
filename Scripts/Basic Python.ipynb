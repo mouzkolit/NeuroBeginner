{
 "cells": [
  {
   "cell_type": "markdown",
   "id": "d14519eb",
   "metadata": {},
   "source": [
    "## Python Basics for Neuroscientists \n",
    "\n",
    "<br>\n",
    "<br>\n",
    "<a href = \"\"> </a>\n",
    "<p> Python is an interpreted higher level programming languages that is widely used in the field of data manipulation, data science, web development, machine learning, deep learning,\n",
    "web scraping, GUI development and more. Python is a so called multi purpose language\n",
    "</p>\n",
    "<br>\n",
    "<p> What will you learn in this Course: </p>\n",
    "<br>\n",
    "<ul>\n",
    "    <li> Basics in Python </li>\n",
    "        <ul>\n",
    "            <li> Data Types </li>\n",
    "            <li> Data Structures </li>\n",
    "            <li> Control Flows </li>\n",
    "            <li> Functions </li>\n",
    "            <li> Objects </li>\n",
    "            <li> Classes </li>\n",
    "        </ul>\n",
    "    <li> Data Acquisition, Transformation, Wrangling, Loading </li>\n",
    "        <ul>\n",
    "            <li> Pandas (with Neuroscience related examples) </li>\n",
    "            <li> Dask (used for big data import and calculations) </li>\n",
    "            <li> Numpy (used for calculations) </li>\n",
    "        </ul>\n",
    "    <li> Data Visualization </li>\n",
    "        <ul>\n",
    "            <li> Matplotlib and Seaborn </li>\n",
    "            <li> Plotly (If time allows)</li>\n",
    "            <li> Small App in Streamlit </li>\n",
    "       </ul>\n",
    "    <li> Unsupervised Machine Learning </li>\n",
    "        <ul> \n",
    "            <li> Dimensional Reduction </li>\n",
    "            <li> Clustering </li>\n",
    "        </ul>\n",
    "    <li> Supervised Machine Learning </li>\n",
    "        <ul>\n",
    "            <li> Linear Regression </li>\n",
    "            <li> Random Forest </li>\n",
    "        </ul>\n",
    "<br>    "
   ]
  },
  {
   "cell_type": "markdown",
   "id": "32d9b13e",
   "metadata": {},
   "source": [
    "## Usually the First Lines correspond to imports \n",
    "<br>\n",
    "<p> Import Packages and Modules in Python:  Package Manger in Python is called pip. Pip can be used to download packages like Pandas, Seaborn and more which are not shipped with basic Python! When the package download and installation was succesful, packages can be imported as illustrated below. Usually this is performed at the top of your Script/Program ect. </p>\n",
    "\n",
    "<code> \n",
    "import package\n",
    "import * from package\n",
    "</code>\n",
    "<br>\n",
    "<p> The second import is called wild card import and should usually be avoided. Therefore usually directly import the used object such as: </p>\n",
    "<br>\n",
    "<code>\n",
    "from collections import Counter\n",
    "from pandas import melt\n",
    "</code>\n",
    "<br>\n",
    "\n",
    "<p> In addition we can also serve acronyms for the package like in: </p>\n",
    "<code> \n",
    "import pandas as pd\n",
    "import numpy as np\n",
    "</code>"
   ]
  },
  {
   "cell_type": "markdown",
   "id": "b32891fa",
   "metadata": {},
   "source": [
    "## Data Types in Pyton\n",
    "<br>\n",
    "<p> <b>Question:</b> What Data Types are available in Python ??? </p>"
   ]
  },
  {
   "cell_type": "code",
   "execution_count": 10,
   "id": "088691f5",
   "metadata": {},
   "outputs": [],
   "source": [
    "# The following Data Types can be found in python and used\n",
    "# integers\n",
    "number_int = 1\n",
    "number_int_2 = 15\n",
    "\n",
    "# floats \n",
    "number = 1.3\n",
    "number_2 = -1.5\n",
    "\n",
    "#booleans\n",
    "bools = True\n",
    "bools_2 = False\n",
    "\n",
    "#strings\n",
    "string_1 = \"hello\"\n",
    "string_2 = \"world\"\n",
    "\n",
    "#bytes and byte strings\n",
    "string_byte_1 = b'hello'"
   ]
  },
  {
   "cell_type": "code",
   "execution_count": 14,
   "id": "2d8fcba8",
   "metadata": {},
   "outputs": [
    {
     "name": "stdout",
     "output_type": "stream",
     "text": [
      "-0.19999999999999996\n",
      "1 15\n",
      "helloworld\n",
      "2\n"
     ]
    }
   ],
   "source": [
    "### The Python Interpreter can be used for calculations\n",
    "print(number + number_2)\n",
    "print(number_int, number_int_2)\n",
    "print(string_1 + string_2)\n",
    "print(bools + bools)"
   ]
  },
  {
   "cell_type": "markdown",
   "id": "48386fbe",
   "metadata": {},
   "source": [
    "### Data Structures in Pyton\n",
    "<br>\n",
    "<p> Data Structures are objects in Python that can held data of various types. The data structures can  usually distingushed between mutable and immutable data structures. </p>\n",
    "<br>\n",
    "<p> Usual Functions for sets: </p>\n",
    "<code>\n",
    "    set_1 = {1,2,3,4}\n",
    "    set_2 = {1,2,9}\n",
    "    set_1.add()\n",
    "    set_1.remove()\n",
    "    set_1.pop()\n",
    "    set_1.intersection(set_2)\n",
    "    set_1.union(set_2)\n",
    "    set_2.issubset(set_1)\n",
    "    next(iter(set_1))\n",
    "</code>\n",
    "<br>\n",
    "<p> Try yourself: build a using the following numbers (1,2,3,4,1,2,3,7,9). Create a second set with the numbers (10,1,7,9). Build the intersections and union after removing the 7 from the first set. <br> What are the results ? </br>\n",
    "</p> "
   ]
  },
  {
   "cell_type": "code",
   "execution_count": 33,
   "id": "ec5b010f",
   "metadata": {},
   "outputs": [
    {
     "data": {
      "text/plain": [
       "{1, 2, 3, 4, 7, 9, 10}"
      ]
     },
     "execution_count": 33,
     "metadata": {},
     "output_type": "execute_result"
    }
   ],
   "source": [
    "# Solution programmed\n",
    "set1 = {1,2,3,4,1,2,3,7,9}\n",
    "set2 = {10,1,7,9}\n",
    "set1.remove(7)\n",
    "set1.intersection(set2)\n",
    "set1.union(set2)"
   ]
  },
  {
   "cell_type": "markdown",
   "id": "b38267b7",
   "metadata": {},
   "source": [
    "## Data Structures in Pyton\n",
    "\n",
    "<br>\n",
    "Data Structures are objects in Python that can held data of various types. The data structures can usually distingushed between mutable and immutable data structures.\n",
    "\n",
    "<br>\n",
    "\n",
    "Usual Functions for lists:\n",
    "\n",
    "    list_1 = [1,2,3,4]\n",
    "    list_2 = [1,2,9]\n",
    "    list_1.append()\n",
    "    list_1.extend()\n",
    "    list_1.pop()\n",
    "    list_1[1:]\n",
    "    list_1 + list_2\n",
    "    list_1.extend(list_2)\n",
    "    list_1.append(list_2)\n",
    "    list_1.reverse()\n",
    "    next(iter(set_1))\n",
    "\n",
    "<br>\n",
    "Try yourself: build a using the following numbers (1,2,3,4,1,2,3,7,9). Create a second set with the numbers (10,1,7,9). Build the intersections and union after removing the 7 from the first set. \n",
    "What are the results ? "
   ]
  },
  {
   "cell_type": "code",
   "execution_count": 26,
   "id": "c1fbc98c",
   "metadata": {},
   "outputs": [
    {
     "data": {
      "text/plain": [
       "[1, 2, 3]"
      ]
     },
     "execution_count": 26,
     "metadata": {},
     "output_type": "execute_result"
    }
   ],
   "source": [
    "## Mistakes by reference\n",
    "list_a = [1,2,3,4]\n",
    "list_b = list_a.copy()\n",
    "list_b.pop()\n",
    "list_b"
   ]
  },
  {
   "cell_type": "code",
   "execution_count": 39,
   "id": "0284447a",
   "metadata": {},
   "outputs": [
    {
     "name": "stdout",
     "output_type": "stream",
     "text": [
      "0\n",
      "2\n",
      "4\n",
      "4\n",
      "1\n",
      "2\n",
      "4\n",
      "0 0\n",
      "1 2\n",
      "2 4\n",
      "3 4\n",
      "4 1\n",
      "5 2\n",
      "6 4\n",
      "0 0\n",
      "1 2\n",
      "2 4\n",
      "3 4\n",
      "4 1\n",
      "5 2\n",
      "6 4\n",
      "0 0\n",
      "2 2\n",
      "4 4\n",
      "4 4\n",
      "1 1\n",
      "2 2\n",
      "4 4\n"
     ]
    }
   ],
   "source": [
    "# how to iterate over lists?\n",
    "# zip and no zip\n",
    "list_a = [0,2,4,4,1,2,4]\n",
    "\n",
    "for i in list_a:\n",
    "    print(i)\n",
    "for i in range(len(list_a)):\n",
    "    print(i,list_a[i])\n",
    "    \n",
    "for index, value in enumerate(list_a):\n",
    "    print(index, value)\n",
    "    \n",
    "for i,t in zip(list_a, list_a):\n",
    "    print(i,t)\n",
    "    \n",
    "# exercise:\n",
    "# take list_a and only multiple if the index position is even\n",
    "# than update the list and replace the value"
   ]
  },
  {
   "cell_type": "code",
   "execution_count": 42,
   "id": "ba7bb22a",
   "metadata": {},
   "outputs": [
    {
     "name": "stdout",
     "output_type": "stream",
     "text": [
      "0\n"
     ]
    },
    {
     "ename": "ZeroDivisionError",
     "evalue": "division by zero",
     "output_type": "error",
     "traceback": [
      "\u001b[0;31m---------------------------------------------------------------------------\u001b[0m",
      "\u001b[0;31mZeroDivisionError\u001b[0m                         Traceback (most recent call last)",
      "Input \u001b[0;32mIn [42]\u001b[0m, in \u001b[0;36m<cell line: 3>\u001b[0;34m()\u001b[0m\n\u001b[1;32m      4\u001b[0m \u001b[38;5;28;01mif\u001b[39;00m index \u001b[38;5;241m%\u001b[39m \u001b[38;5;241m2\u001b[39m \u001b[38;5;241m==\u001b[39m \u001b[38;5;241m0\u001b[39m:\n\u001b[1;32m      5\u001b[0m     \u001b[38;5;28mprint\u001b[39m(index)\n\u001b[0;32m----> 6\u001b[0m     list_a[index] \u001b[38;5;241m=\u001b[39m \u001b[38;5;241;43m2\u001b[39;49m\u001b[38;5;241;43m/\u001b[39;49m\u001b[43mvalue\u001b[49m  \n\u001b[1;32m      7\u001b[0m \u001b[38;5;28;01melse\u001b[39;00m:\n\u001b[1;32m      8\u001b[0m     list_a\n",
      "\u001b[0;31mZeroDivisionError\u001b[0m: division by zero"
     ]
    }
   ],
   "source": [
    "# and here now we learn about exceptions!\n",
    "# try the same with division\n",
    "for index, value in enumerate(list_a):\n",
    "    if index % 2 == 0:\n",
    "        print(index)\n",
    "        list_a[index] = 2/value  \n",
    "    else:\n",
    "        list_a\n",
    "print(list_a)"
   ]
  },
  {
   "cell_type": "code",
   "execution_count": 23,
   "id": "fc1fca36",
   "metadata": {},
   "outputs": [
    {
     "name": "stdout",
     "output_type": "stream",
     "text": [
      "{'teacher': 'Kai Kummer', 'students': ['Student1', 'Student2', 'new_student2']}\n",
      "{'teacher': 'Kai Kummer', 'students': ['Student1', 'Student2', 'new_student2']}\n"
     ]
    }
   ],
   "source": [
    "# dictionaries:\n",
    "# dictionaries evaluate like this\n",
    "# here you can see mutatbility\n",
    "# how to process the data\n",
    "\n",
    "course_dict = {\"teacher\": \"Maximilian Zeidler\", \"students\": [\"Student1\", \"Student2\"]}\n",
    "course_dict.update({\"teacher\": \"Kai Kummer\"})\n",
    "course_dict[\"students\"].append(\"new_student2\")\n",
    "print(course_dict)\n",
    "#course_dict.update({\"students\": \"New_student\"})\n",
    "print(course_dict)\n",
    "course_dict[\"students\"].append(\"new_student2\")"
   ]
  },
  {
   "cell_type": "code",
   "execution_count": 25,
   "id": "ebb9d66b",
   "metadata": {},
   "outputs": [
    {
     "name": "stdout",
     "output_type": "stream",
     "text": [
      "teacher\n",
      "students\n",
      "K\n",
      "a\n",
      "i\n",
      " \n",
      "K\n",
      "u\n",
      "m\n",
      "m\n",
      "e\n",
      "r\n",
      "teacher Kai Kummer\n",
      "Student1\n",
      "Student2\n",
      "new_student2\n",
      "new_student2\n",
      "students ['Student1', 'Student2', 'new_student2', 'new_student2']\n",
      "teacher\n",
      "students\n",
      "Kai Kummer\n",
      "['Student1', 'Student2', 'new_student2', 'new_student2']\n"
     ]
    }
   ],
   "source": [
    "# loop through dictionaries\n",
    "for key in course_dict: # this loops through keys\n",
    "    print(key)\n",
    "# this should show the looping behavior with different data structures\n",
    "for key, value in course_dict.items():\n",
    "    for i in value:\n",
    "        print(i)\n",
    "    print(key, value)\n",
    "    \n",
    "for key in course_dict.keys(): # runs through the keys\n",
    "    print(key) # same as first\n",
    "\n",
    "for value in course_dict.values(): # runs through the value\n",
    "    print(value)\n",
    "# question: build a dictionary of classmates and give them a mark for the course\n",
    "# then assign a new key with ranking if student has a 1 or 2 then rank him as top \n",
    "# else as ok\n",
    "# as a help making life more easier you cann also assign an empty list to a key"
   ]
  },
  {
   "cell_type": "code",
   "execution_count": null,
   "id": "a7d0ab3f",
   "metadata": {},
   "outputs": [],
   "source": []
  },
  {
   "cell_type": "code",
   "execution_count": 1,
   "id": "894f0924",
   "metadata": {},
   "outputs": [
    {
     "data": {
      "text/plain": [
       "[False, True]"
      ]
     },
     "execution_count": 1,
     "metadata": {},
     "output_type": "execute_result"
    }
   ],
   "source": [
    "def get_unique_values_from_list(queried_liste: list) -> list:\n",
    "    \"\"\" Function to retrieve the unique values from a inserted list\n",
    "    args:\n",
    "        queried_list type(list): values\"\"\"\n",
    "    list_trial = queried_liste\n",
    "    second_list = []\n",
    "    for i in list_trial:\n",
    "        if second_list:\n",
    "            if i in second_list:\n",
    "                continue\n",
    "            else:\n",
    "                second_list.append(i)\n",
    "        else:\n",
    "            second_list.append(i)\n",
    "    return second_list\n",
    "\n",
    "unique_list = get_unique_values_from_list([False, True, True, False])\n",
    "unique_list"
   ]
  }
 ],
 "metadata": {
  "kernelspec": {
   "display_name": "Python 3 (ipykernel)",
   "language": "python",
   "name": "python3"
  },
  "language_info": {
   "codemirror_mode": {
    "name": "ipython",
    "version": 3
   },
   "file_extension": ".py",
   "mimetype": "text/x-python",
   "name": "python",
   "nbconvert_exporter": "python",
   "pygments_lexer": "ipython3",
   "version": "3.10.8"
  }
 },
 "nbformat": 4,
 "nbformat_minor": 5
}
