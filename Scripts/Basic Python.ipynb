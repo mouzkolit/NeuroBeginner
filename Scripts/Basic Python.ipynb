{
 "cells": [
  {
   "attachments": {},
   "cell_type": "markdown",
   "id": "d14519eb",
   "metadata": {},
   "source": [
    "# Basics in Python"
   ]
  },
  {
   "attachments": {},
   "cell_type": "markdown",
   "id": "b32891fa",
   "metadata": {},
   "source": [
    "## Data Types in Pyton\n",
    "<br>\n",
    "<p> <b> The following data types are available in python </b></p>"
   ]
  },
  {
   "cell_type": "code",
   "execution_count": 10,
   "id": "088691f5",
   "metadata": {},
   "outputs": [],
   "source": [
    "# The following Data Types can be found in python and used\n",
    "# integers\n",
    "number_int = 1\n",
    "number_int_2 = 15\n",
    "\n",
    "# floats \n",
    "number = 1.3\n",
    "number_2 = -1.5\n",
    "\n",
    "#booleans\n",
    "bools = True\n",
    "bools_2 = False\n",
    "\n",
    "#strings\n",
    "string_1 = \"hello\"\n",
    "string_2 = \"world\"\n",
    "\n",
    "#bytes and byte strings\n",
    "string_byte_1 = b'hello'"
   ]
  },
  {
   "cell_type": "code",
   "execution_count": 14,
   "id": "2d8fcba8",
   "metadata": {},
   "outputs": [
    {
     "name": "stdout",
     "output_type": "stream",
     "text": [
      "-0.19999999999999996\n",
      "1 15\n",
      "helloworld\n",
      "2\n"
     ]
    }
   ],
   "source": [
    "### The Python Interpreter can be used for calculations\n",
    "print(number + number_2)\n",
    "print(number_int, number_int_2)\n",
    "print(string_1 + string_2)\n",
    "print(bools + bools)"
   ]
  },
  {
   "attachments": {},
   "cell_type": "markdown",
   "id": "48386fbe",
   "metadata": {},
   "source": [
    "### Data Structures in Pyton\n",
    "<br>\n",
    "<p> Data Structures are objects in Python that contain data of various types. The data structures types can usually distingushed based on their properties such as mutability, sortability or indexability </p>\n",
    "<br>\n",
    "\n",
    "### First Data Structure is the Set\n",
    "A set is mutable but not sorted and therefor indexing does not make a lot of sense\n",
    "<br>\n",
    "\n",
    "<b> Usual Functions for sets: </b>\n",
    "<br>\n",
    "<code>\n",
    "    set_1 = {1,2,3,4}\n",
    "    set_2 = {1,2,9}\n",
    "    set_1.add()\n",
    "    set_1.remove()\n",
    "    set_1.pop()\n",
    "    set_1.intersection(set_2)\n",
    "    set_1.union(set_2)\n",
    "    set_2.issubset(set_1)\n",
    "    next(iter(set_1))\n",
    "</code>\n",
    "<br>"
   ]
  },
  {
   "cell_type": "code",
   "execution_count": 2,
   "id": "ec5b010f",
   "metadata": {},
   "outputs": [
    {
     "data": {
      "text/plain": [
       "{1, 2, 3, 4, 7, 9, 10}"
      ]
     },
     "execution_count": 2,
     "metadata": {},
     "output_type": "execute_result"
    }
   ],
   "source": [
    "# here is an example for intersection and unions\n",
    "set1 = {1,2,3,4,1,2,3,7,9}\n",
    "set2 = {10,1,7,9}\n",
    "set1.remove(7)\n",
    "set1.intersection(set2)\n",
    "set1.union(set2)"
   ]
  },
  {
   "attachments": {},
   "cell_type": "markdown",
   "id": "b38267b7",
   "metadata": {},
   "source": [
    "## The second data structure is a List:\n",
    "<br>\n",
    "A list is sorted and mutable!\n",
    "<br>\n",
    "\n",
    "Usual Functions for lists:\n",
    "\n",
    "    list_1 = [1,2,3,4]\n",
    "    list_2 = [1,2,9]\n",
    "    list_1.append()\n",
    "    list_1.extend()\n",
    "    list_1.pop()\n",
    "    list_1[1:]\n",
    "    list_1 + list_2\n",
    "    list_1.extend(list_2)\n",
    "    list_1.append(list_2)\n",
    "    list_1.reverse()\n",
    "    next(iter(set_1))"
   ]
  },
  {
   "attachments": {},
   "cell_type": "markdown",
   "id": "b6e5ee26",
   "metadata": {},
   "source": [
    "### The next data structure is a dictionary\n",
    "\n",
    "A dictionary always consists of a key and an associated value (key: value). A dictionary is usually unsorted, also of course there exist a sorted dictionary in python.\n",
    "A dictionary is mutable, which means we can change the data that are holded by the dictionary"
   ]
  },
  {
   "cell_type": "code",
   "execution_count": 3,
   "id": "fc1fca36",
   "metadata": {},
   "outputs": [
    {
     "name": "stdout",
     "output_type": "stream",
     "text": [
      "Maximilian Zeidler\n",
      "Maximilian Zeidler\n",
      "{'teacher': 'Maximilian Zeidler', 'students': ['Student1', 'Student2']}\n",
      "{'teacher': 'Kai Kummer', 'students': ['Student1', 'Student2']}\n",
      "{'teacher': 'Kai Kummer', 'students': ['Student1', 'Student2', 'new_student2']}\n",
      "{'teacher': 'Kai Kummer', 'students': ['Student1', 'Student2', 'new_student2']}\n",
      "{'teacher': 'Kai Kummer', 'students': ['Student1', 'Student2', 'new_student2', 'new_student2']}\n"
     ]
    }
   ],
   "source": [
    "# Typical Functions for dictionaries\n",
    "course_dict = {\"teacher\": \"Maximilian Zeidler\", \"students\": [\"Student1\", \"Student2\"]}\n",
    "print(course_dict[\"teacher\"])\n",
    "print(course_dict.get(\"teacher\"))\n",
    "print(course_dict)\n",
    "course_dict.update({\"teacher\": \"Kai Kummer\"})\n",
    "print(course_dict)\n",
    "course_dict[\"students\"].append(\"new_student2\")\n",
    "print(course_dict)\n",
    "#course_dict.update({\"students\": \"New_student\"})\n",
    "print(course_dict)\n",
    "course_dict[\"students\"].append(\"new_student2\")\n",
    "print(course_dict)"
   ]
  },
  {
   "attachments": {},
   "cell_type": "markdown",
   "id": "ebb9d66b",
   "metadata": {},
   "source": [
    "### The next data structure is a tuple!\n",
    "<br>\n",
    "A tuple is a sequence that is sorted but not mutable. This means we cannot change the tuple after initialization! But we can retrieve the values at a certain index of a tuple."
   ]
  },
  {
   "cell_type": "code",
   "execution_count": 4,
   "id": "516b59f2",
   "metadata": {},
   "outputs": [
    {
     "data": {
      "text/plain": [
       "(2, 1)"
      ]
     },
     "execution_count": 4,
     "metadata": {},
     "output_type": "execute_result"
    }
   ],
   "source": [
    "tuple = (2,1,1)\n",
    "tuple[0] # position 1\n",
    "tuple[0:2] # position 1-3"
   ]
  },
  {
   "cell_type": "code",
   "execution_count": 10,
   "id": "581915a3",
   "metadata": {},
   "outputs": [
    {
     "name": "stdout",
     "output_type": "stream",
     "text": [
      "hello world, its: morning\n"
     ]
    },
    {
     "data": {
      "text/plain": [
       "'morningdark'"
      ]
     },
     "execution_count": 10,
     "metadata": {},
     "output_type": "execute_result"
    }
   ],
   "source": [
    "def hello_world(daytime):\n",
    "    \"\"\"_summary_: Should Print Hello World\n",
    "    \"\"\"\n",
    "    print(f\"hello world, its: {daytime}\")\n",
    "    new_time = daytime + \"dark\"\n",
    "    return new_time\n",
    "    \n",
    "hello_world(\"morning\")"
   ]
  },
  {
   "cell_type": "code",
   "execution_count": 13,
   "id": "21641506",
   "metadata": {},
   "outputs": [
    {
     "data": {
      "text/plain": [
       "[12, 10, 8, 11, 9, 8]"
      ]
     },
     "execution_count": 13,
     "metadata": {},
     "output_type": "execute_result"
    }
   ],
   "source": [
    "queried_list = [5,3,1,4,2,1]\n",
    "def add_with_value(queried_list, adder = 5):\n",
    "    added_list = []\n",
    "    for i in queried_list:\n",
    "        added_list.append(i + adder)\n",
    "        \n",
    "    return added_list\n",
    "\n",
    "add_with_value(queried_list, 7)\n",
    "        \n",
    "        "
   ]
  },
  {
   "cell_type": "code",
   "execution_count": null,
   "id": "b70c0f3b",
   "metadata": {},
   "outputs": [],
   "source": [
    "# can you call a function that takes a list of lists as argument \n",
    "# [[1,2,3],[4,5,6],[7,8,9]] and returs the max number?\n",
    "# Can you also add doc strings to the function\n",
    "\n",
    "def max_of_list(queried_list: list[list]):\n",
    "    \"\"\"_summary_\n",
    "\n",
    "    Args:\n",
    "        queried_list (list[list]): \n",
    "    \"\"\"\n",
    "    number = 0\n",
    "    for liste in queried_list:\n",
    "        for value in liste:\n",
    "            if value > number:\n",
    "                number = value\n",
    "            else:\n",
    "                continue\n",
    "            \n",
    "    return number\n",
    "    "
   ]
  },
  {
   "cell_type": "code",
   "execution_count": 9,
   "id": "3405ba2f",
   "metadata": {},
   "outputs": [
    {
     "name": "stdout",
     "output_type": "stream",
     "text": [
      "10\n"
     ]
    }
   ],
   "source": [
    "# functional programming\n",
    "# lambdas\n",
    "from functools import reduce\n",
    "list_to_add = [1,2,3,4]\n",
    "\n",
    "# functional programming\n",
    "add_numbers = lambda x: x + 1 # add function\n",
    "filter_number = lambda x: x < 2 # filter function\n",
    "reduced_number = lambda x,y: x+y\n",
    "\n",
    "# apply the functions\n",
    "added_list = map(add_numbers,list_to_add) # creates a generator what is an generator? \n",
    "filtered_list = filter(filter_number,list_to_add)\n",
    "reduced_list = reduce(reduced_number, list_to_add) # its adds up the particular numbers\n",
    "\n",
    "print(reduced_list)\n"
   ]
  },
  {
   "cell_type": "code",
   "execution_count": 1,
   "id": "894f0924",
   "metadata": {},
   "outputs": [
    {
     "data": {
      "text/plain": [
       "[False, True]"
      ]
     },
     "execution_count": 1,
     "metadata": {},
     "output_type": "execute_result"
    }
   ],
   "source": [
    "# this could be an exercies!\n",
    "# \n",
    "def get_unique_values_from_list(queried_liste: list) -> list:\n",
    "    \"\"\" Function to retrieve the unique values from a inserted list\n",
    "    args:\n",
    "        queried_list type(list): values\"\"\"\n",
    "    list_trial = queried_liste\n",
    "    second_list = []\n",
    "    for i in list_trial:\n",
    "        if i in second_list:\n",
    "            continue\n",
    "        else:\n",
    "            second_list.append(i)\n",
    "    return second_list\n",
    "\n",
    "unique_list = get_unique_values_from_list([False, True, True, False])\n",
    "unique_list"
   ]
  },
  {
   "cell_type": "code",
   "execution_count": 16,
   "id": "9c3b8239",
   "metadata": {},
   "outputs": [
    {
     "name": "stdout",
     "output_type": "stream",
     "text": [
      "The teacher of the course: Data Science for Neuroscientists is Max Zeidler and the following students are in this course []\n",
      "The teacher of the course: Data Science for Neuroscientists is Max Zeidler and the following students are in this course ['Kai Kummer']\n"
     ]
    }
   ],
   "source": [
    "#classes\n",
    "class course:\n",
    "    def __init__(self, teacher: str, course_name: str) -> None:\n",
    "        \"\"\"_summary_\n",
    "\n",
    "        Args:\n",
    "            teacher (str): Teachers Name\n",
    "            course_name (str): Course Name\n",
    "        \"\"\"\n",
    "        self.teacher : str = teacher\n",
    "        self.course_name : str = course_name\n",
    "        self.students : list = []\n",
    "        \n",
    "    def greet_course(self):\n",
    "        print(\"Hello Data Scientist\")\n",
    "        \n",
    "    def add_student(self, student):\n",
    "        self.students.append(student)\n",
    "        \n",
    "    def get_students(self):\n",
    "        return self.students\n",
    "    \n",
    "    def get_teacher(self):\n",
    "        return self.teacher\n",
    "    \n",
    "    def set_teacher(self, teacher):\n",
    "        self.teacher = teacher\n",
    "        \n",
    "    def __str__(self):\n",
    "        return f\"The teacher of the course: {self.course_name} is {self.teacher} and the following students are in this course {self.students}\"   \n",
    "                \n",
    "neuroscience_course = course(\"Max Zeidler\", \"Data Science for Neuroscientists\")\n",
    "print(neuroscience_course)\n",
    "neuroscience_course.add_student(\"Kai Kummer\")\n",
    "print(neuroscience_course)\n"
   ]
  }
 ],
 "metadata": {
  "kernelspec": {
   "display_name": "neuroscience_beginner",
   "language": "python",
   "name": "python3"
  },
  "language_info": {
   "codemirror_mode": {
    "name": "ipython",
    "version": 3
   },
   "file_extension": ".py",
   "mimetype": "text/x-python",
   "name": "python",
   "nbconvert_exporter": "python",
   "pygments_lexer": "ipython3",
   "version": "3.10.8"
  },
  "vscode": {
   "interpreter": {
    "hash": "b29e83ee11e7f59cb38c31a3bdf4f8395742e175511a4c2dd46f06d53a300255"
   }
  }
 },
 "nbformat": 4,
 "nbformat_minor": 5
}
