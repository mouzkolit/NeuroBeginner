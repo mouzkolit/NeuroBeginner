{
 "cells": [
  {
   "attachments": {},
   "cell_type": "markdown",
   "metadata": {},
   "source": [
    "# Functions in Python"
   ]
  },
  {
   "cell_type": "code",
   "execution_count": 2,
   "metadata": {},
   "outputs": [],
   "source": [
    "# Why are functions used in Python?\n",
    "# Consider the fact that we have to change every time values in our data structure\n",
    "# If we rename variable we will also have to rename everything that we wrote so far to adapt\n",
    "# functions are always starting with the keyword def\n",
    "\n",
    "def list_agg(list_a: list) -> list:\n",
    "    \"\"\"_summary_: Should aggregate the list\n",
    "\n",
    "    Args:\n",
    "        list_a (list): List of integers or floats\n",
    "    \"\"\"\n",
    "    agg_list = []\n",
    "    for i in list_a:\n",
    "        agg_list.append(i + 2)\n",
    "        \n",
    "    print(agg_list)"
   ]
  },
  {
   "cell_type": "code",
   "execution_count": null,
   "metadata": {},
   "outputs": [],
   "source": [
    "# Excersice\n",
    "# write a function to calculate the median -> takes list as input\n",
    "# write a function to calculate the modus -> takes one list as input\n",
    "# write a function to calculate how often a substring occurs in a string\n",
    "# input would be string = \"agbaabaabaa\", substring = \"aba\"\n",
    "def count_substring(string, sub_string):\n",
    "    \"\"\"\n",
    "    count_substring function should count the substrings\n",
    "    in the queried string\n",
    "    args:\n",
    "        string type(str) -> string to match to\n",
    "        substring type(str)\n",
    "    returns:\n",
    "        count (int) -> number of occurences\n",
    "    \"\"\"\n",
    "    string_len = len(string)\n",
    "    sub_len = len(sub_string)\n",
    "    count = 0\n",
    "    for i in range(len(string)):\n",
    "        sliced_string = string[i:i+sub_len]\n",
    "        if sub_string == sliced_string:\n",
    "            count+=1\n",
    "        \n",
    "    return count\n"
   ]
  }
 ],
 "metadata": {
  "kernelspec": {
   "display_name": "neuroscience_beginner",
   "language": "python",
   "name": "python3"
  },
  "language_info": {
   "codemirror_mode": {
    "name": "ipython",
    "version": 3
   },
   "file_extension": ".py",
   "mimetype": "text/x-python",
   "name": "python",
   "nbconvert_exporter": "python",
   "pygments_lexer": "ipython3",
   "version": "3.10.8 (main, Nov 24 2022, 08:08:27) [Clang 14.0.6 ]"
  },
  "orig_nbformat": 4,
  "vscode": {
   "interpreter": {
    "hash": "b29e83ee11e7f59cb38c31a3bdf4f8395742e175511a4c2dd46f06d53a300255"
   }
  }
 },
 "nbformat": 4,
 "nbformat_minor": 2
}
